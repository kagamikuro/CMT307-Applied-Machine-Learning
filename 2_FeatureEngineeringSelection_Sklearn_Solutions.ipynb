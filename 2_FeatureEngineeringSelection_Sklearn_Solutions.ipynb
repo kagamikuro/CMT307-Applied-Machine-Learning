{
  "nbformat": 4,
  "nbformat_minor": 0,
  "metadata": {
    "colab": {
      "name": "2_FeatureEngineeringSelection_Sklearn_Solutions.ipynb",
      "provenance": [],
      "collapsed_sections": []
    },
    "kernelspec": {
      "name": "python3",
      "display_name": "Python 3"
    }
  },
  "cells": [
    {
      "cell_type": "markdown",
      "metadata": {
        "id": "4vPPsSia1Qpp",
        "colab_type": "text"
      },
      "source": [
        "**Exercise 1:**"
      ]
    },
    {
      "cell_type": "code",
      "metadata": {
        "id": "cOCEsdTf1YtP",
        "colab_type": "code",
        "colab": {}
      },
      "source": [
        "X_train=[]\n",
        "Y_train=[]\n",
        "selected_features=[0,5,7] # Number of times pregnant, Body mass index and Age\n",
        "for patient_line in dataset_file:\n",
        "  patient_linesplit=patient_line.split(\",\")\n",
        "  vector_patient_features=np.zeros(len(selected_features))\n",
        "  feature_index=0\n",
        "  for i in range(len(patient_linesplit)-1):\n",
        "    if i in selected_features:\n",
        "      vector_patient_features[feature_index]=float(patient_linesplit[i])\n",
        "      feature_index+=1\n",
        "  X_train.append(vector_patient_features)\n",
        "  Y_train.append(int(patient_linesplit[-1]))\n",
        "  \n",
        "svm_clf=sklearn.svm.SVC(kernel=\"linear\",gamma='auto') # Load the (linear) SVM model\n",
        "svm_clf.fit(X_train,Y_train) # Train the SVM model\n",
        "\n",
        "patient_1=['3', '35.2', '51']\n",
        "patient_2=['1', '20.5', '21']\n",
        "print (svm_clf.predict([patient_1]))\n",
        "print (svm_clf.predict([patient_2]))"
      ],
      "execution_count": 0,
      "outputs": []
    },
    {
      "cell_type": "markdown",
      "metadata": {
        "id": "kPDTOlVp1a3o",
        "colab_type": "text"
      },
      "source": [
        "**Exercise 2:**"
      ]
    },
    {
      "cell_type": "code",
      "metadata": {
        "id": "0EDb9dm21dfA",
        "colab_type": "code",
        "colab": {}
      },
      "source": [
        "def get_vocabulary(dataset_file_pos, dataset_file_neg, num_features): # Function to retrieve vocabulary\n",
        "  dict_word_frequency={}\n",
        "  for pos_review in dataset_file_pos:\n",
        "    sentence_tokens=get_list_tokens(pos_review)\n",
        "    for word in sentence_tokens:\n",
        "      if word in stopwords: continue\n",
        "      if word not in dict_word_frequency: dict_word_frequency[word]=1\n",
        "      else: dict_word_frequency[word]+=1\n",
        "  for neg_review in dataset_file_neg:\n",
        "    sentence_tokens=get_list_tokens(neg_review)\n",
        "    for word in sentence_tokens:\n",
        "      if word in stopwords: continue\n",
        "      if word not in dict_word_frequency: dict_word_frequency[word]=1\n",
        "      else: dict_word_frequency[word]+=1\n",
        "  sorted_list = sorted(dict_word_frequency.items(), key=operator.itemgetter(1), reverse=True)[:num_features]\n",
        "  vocabulary=[]\n",
        "  for word,frequency in sorted_list:\n",
        "    vocabulary.append(word)\n",
        "  return vocabulary\n",
        "\n",
        "def train_svm_classifier(dataset_file_pos, dataset_file_neg, vocabulary):\n",
        "  # First we convert sentences to vectors, which will be used as features\n",
        "  X_train=[]\n",
        "  Y_train=[]\n",
        "  for pos_review in dataset_file_pos:\n",
        "    vector_pos_review=get_vector_text(vocabulary,pos_review)\n",
        "    X_train.append(vector_pos_review)\n",
        "    Y_train.append(1)\n",
        "  for neg_review in dataset_file_neg:\n",
        "    vector_neg_review=get_vector_text(vocabulary,neg_review)\n",
        "    X_train.append(vector_neg_review)\n",
        "    Y_train.append(0)\n",
        "  X_train_sentanalysis=np.asarray(X_train)\n",
        "  Y_train_sentanalysis=np.asarray(Y_train)\n",
        "  # Finally, we train the SVM classifier \n",
        "  svm_clf=sklearn.svm.SVC(kernel=\"linear\",gamma='auto')\n",
        "  svm_clf.fit(X_train_sentanalysis,Y_train_sentanalysis)\n",
        "  return svm_clf\n",
        "\n",
        "new_vocabulary=get_vocabulary(dataset_file_pos, dataset_file_neg, 1200)   # We use the get_vocabulary function to retrieve the vocabulary\n",
        "svm_clf=train_svm_classifier(dataset_file_pos, dataset_file_neg, new_vocabulary)\n",
        "print (svm_clf.predict([get_vector_text(new_vocabulary,sentence_1)]))\n",
        "print (svm_clf.predict([get_vector_text(new_vocabulary,sentence_2)]))"
      ],
      "execution_count": 0,
      "outputs": []
    },
    {
      "cell_type": "markdown",
      "metadata": {
        "id": "kGj9FA73Fr36",
        "colab_type": "text"
      },
      "source": [
        "**Exercise 3:**"
      ]
    },
    {
      "cell_type": "code",
      "metadata": {
        "id": "oat-VJrKFqxp",
        "colab_type": "code",
        "colab": {}
      },
      "source": [
        "fs_diabetes=SelectKBest(chi2, k=7).fit(X_train_diabetes, Y_train_diabetes)\n",
        "X_train_diabetes_new = fs_diabetes.transform(X_train_diabetes)\n",
        "svm_clf_diabetes=sklearn.svm.SVC(kernel=\"linear\",gamma='auto')\n",
        "svm_clf_diabetes.fit(X_train_diabetes_new,Y_train_diabetes)\n",
        "patient_1=['0', '100', '86', '20', '39', '35.1', '0.242', '21']\n",
        "patient_2=['1', '197', '70', '45', '543', '30.5', '0.158', '51']\n",
        "print (svm_clf_diabetes.predict(fs_diabetes.transform([patient_1])))\n",
        "print (svm_clf_diabetes.predict(fs_diabetes.transform([patient_2])))"
      ],
      "execution_count": 0,
      "outputs": []
    }
  ]
}