{
  "nbformat": 4,
  "nbformat_minor": 0,
  "metadata": {
    "colab": {
      "name": "CMT307_Session13_Lab.ipynb",
      "provenance": [],
      "collapsed_sections": []
    },
    "kernelspec": {
      "name": "python3",
      "display_name": "Python 3"
    }
  },
  "cells": [
    {
      "cell_type": "markdown",
      "metadata": {
        "id": "r6IDPM7r7RlC",
        "colab_type": "text"
      },
      "source": [
        "**Task 1**: Use pre-trained Xception to classify an image, e.g. the elephant or other images of your choice (Hint: the input image needs to be resized to 299x299)"
      ]
    },
    {
      "cell_type": "code",
      "metadata": {
        "id": "7Y23m8bW7gN0",
        "colab_type": "code",
        "colab": {}
      },
      "source": [
        ""
      ],
      "execution_count": 0,
      "outputs": []
    },
    {
      "cell_type": "markdown",
      "metadata": {
        "id": "8B1FgrtqEG7m",
        "colab_type": "text"
      },
      "source": [
        "**Task 2**: Build a denoise autoencoder for MNIST Fashion Dataset, using Dropout. Show its reconstruction results.\n"
      ]
    },
    {
      "cell_type": "code",
      "metadata": {
        "id": "S1rpLRlNEb8N",
        "colab_type": "code",
        "colab": {}
      },
      "source": [
        "# Autoencoder example using fashion MNIST\n",
        "# Load image data\n",
        "fashion_mnist = keras.datasets.fashion_mnist\n",
        "(x_train, y_train), (x_test, y_test) = fashion_mnist.load_data()\n",
        "class_names = [\"T-shirt/top\", \"Trouser\", \"Pullover\", \"Dress\", \"Coat\", \"Sandal\", \"Shirt\", \"Sneaker\", \"Bag\", \"Ankle boot\"]\n",
        "\n",
        "# Data preparation:\n",
        "#   Map intensities from [0--255] to 0.0--1.0\n",
        "x_train = x_train / 255.0\n",
        "x_test = x_test / 255.0\n"
      ],
      "execution_count": 0,
      "outputs": []
    },
    {
      "cell_type": "markdown",
      "metadata": {
        "id": "jjdgxvqBFGUZ",
        "colab_type": "text"
      },
      "source": [
        "**Task 3**: Test the capability of denoising for removing noise of input images. Use the given code to add noise to the test images."
      ]
    },
    {
      "cell_type": "code",
      "metadata": {
        "id": "nwV5h7LMFSEk",
        "colab_type": "code",
        "colab": {}
      },
      "source": [
        "import numpy as np\n",
        "def add_gaussian_noise(image):\n",
        "    # image must be scaled in [0, 1]\n",
        "    with tf.name_scope('Add_gaussian_noise'):\n",
        "        noise = tf.random_normal(shape=tf.shape(image), mean=0.0, stddev=(50)/(255), dtype=tf.float32)\n",
        "        noise_img = image + noise\n",
        "        noise_img = tf.clip_by_value(noise_img, 0.0, 1.0)\n",
        "    return noise_img.eval(session=tf.compat.v1.Session())\n",
        "\n"
      ],
      "execution_count": 0,
      "outputs": []
    },
    {
      "cell_type": "markdown",
      "metadata": {
        "id": "1iJW0yLU77mk",
        "colab_type": "text"
      },
      "source": [
        "**Task 4**: Build an autoencoder for MNIST Fashion Dataset. As they are images, it is possible to use convolutional layers (Conv2D) followed by pooling (MaxPool2D). For the decoder, uses Conv2DTranspose to achieve convolution and upsampling.\n",
        "\n",
        "Hint: the last layer uses Sigmoid activation to map the output to (0, 1). \n",
        "Hint: Use a dense layer to map convolutional layer output to a latent vector representation."
      ]
    },
    {
      "cell_type": "code",
      "metadata": {
        "id": "_7udvk82Iw9x",
        "colab_type": "code",
        "colab": {}
      },
      "source": [
        "# Autoencoder example using fashion MNIST\n",
        "# Load image data\n",
        "fashion_mnist = keras.datasets.fashion_mnist\n",
        "(x_train, y_train), (x_test, y_test) = fashion_mnist.load_data()\n",
        "class_names = [\"T-shirt/top\", \"Trouser\", \"Pullover\", \"Dress\", \"Coat\", \"Sandal\", \"Shirt\", \"Sneaker\", \"Bag\", \"Ankle boot\"]\n",
        "\n",
        "# Data preparation:\n",
        "#   Map intensities from [0--255] to 0.0--1.0\n",
        "x_train = x_train / 255.0\n",
        "x_test = x_test / 255.0\n"
      ],
      "execution_count": 0,
      "outputs": []
    }
  ]
}