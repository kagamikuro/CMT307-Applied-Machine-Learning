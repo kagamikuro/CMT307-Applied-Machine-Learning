{
  "nbformat": 4,
  "nbformat_minor": 0,
  "metadata": {
    "colab": {
      "name": "CMT307_Session13_LabSolutions.ipynb",
      "provenance": [],
      "collapsed_sections": []
    },
    "kernelspec": {
      "name": "python3",
      "display_name": "Python 3"
    }
  },
  "cells": [
    {
      "cell_type": "markdown",
      "metadata": {
        "id": "r6IDPM7r7RlC",
        "colab_type": "text"
      },
      "source": [
        "**Task 1**: Use pre-trained Xception to classify an image, e.g. the elephant or other images of your choice (Hint: the input image needs to be resized to 299x299)"
      ]
    },
    {
      "cell_type": "code",
      "metadata": {
        "id": "7Y23m8bW7gN0",
        "colab_type": "code",
        "outputId": "5a1c57b1-b8fa-4372-adf2-bdd154313f33",
        "colab": {
          "base_uri": "https://localhost:8080/",
          "height": 141
        }
      },
      "source": [
        "# import Keras & Tensorflow\n",
        "import tensorflow as tf\n",
        "from tensorflow import keras\n",
        "# Load pre-trained Xception\n",
        "model = keras.applications.xception.Xception(weights=\"imagenet\")\n",
        "# Connect with Google Drive\n",
        "from google.colab import drive\n",
        "drive.mount('/content/gdrive')\n",
        "# Load in image and perform classification\n",
        "import keras.preprocessing.image as image\n",
        "img = image.load_img(\"/content/gdrive/My Drive/elephant.jpg\", target_size=(299, 299)) # the image is in the root of Google Drive\n",
        "# convert the image pixels to a numpy array\n",
        "img = image.img_to_array(img)\n",
        "# reshape data for the model\n",
        "img = img.reshape((1, img.shape[0], img.shape[1], img.shape[2]))\n",
        "# prepare the image for the model\n",
        "img = keras.applications.xception.preprocess_input(img)\n",
        "Y_prob = model.predict(img)\n",
        "# Show top K prediction\n",
        "top_K = keras.applications.xception.decode_predictions(Y_prob, top=3)\n",
        "for class_id, name, y_proba in top_K[0]:\n",
        "  print(\"class_id:\", class_id, \"name:\", name, \" \", y_proba*100, \"%\")"
      ],
      "execution_count": 0,
      "outputs": [
        {
          "output_type": "stream",
          "text": [
            "Drive already mounted at /content/gdrive; to attempt to forcibly remount, call drive.mount(\"/content/gdrive\", force_remount=True).\n",
            "Downloading data from https://storage.googleapis.com/download.tensorflow.org/data/imagenet_class_index.json\n",
            "40960/35363 [==================================] - 0s 0us/step\n",
            "class_id: n02504458 name: African_elephant   79.48312759399414 %\n",
            "class_id: n02504013 name: Indian_elephant   7.916814833879471 %\n",
            "class_id: n01871265 name: tusker   5.354675650596619 %\n"
          ],
          "name": "stdout"
        }
      ]
    },
    {
      "cell_type": "markdown",
      "metadata": {
        "id": "8B1FgrtqEG7m",
        "colab_type": "text"
      },
      "source": [
        "**Task 2**: Build a denoise autoencoder for MNIST Fashion Dataset, using Dropout. Show its reconstruction results.\n"
      ]
    },
    {
      "cell_type": "code",
      "metadata": {
        "id": "S1rpLRlNEb8N",
        "colab_type": "code",
        "outputId": "b6152858-d1bf-4716-c77a-e9197061e83b",
        "colab": {
          "base_uri": "https://localhost:8080/",
          "height": 767
        }
      },
      "source": [
        "# Autoencoder example using fashion MNIST\n",
        "# Load image data\n",
        "fashion_mnist = keras.datasets.fashion_mnist\n",
        "(x_train, y_train), (x_test, y_test) = fashion_mnist.load_data()\n",
        "class_names = [\"T-shirt/top\", \"Trouser\", \"Pullover\", \"Dress\", \"Coat\", \"Sandal\", \"Shirt\", \"Sneaker\", \"Bag\", \"Ankle boot\"]\n",
        "\n",
        "# Data preparation:\n",
        "#   Map intensities from [0--255] to 0.0--1.0\n",
        "x_train = x_train / 255.0\n",
        "x_test = x_test / 255.0\n",
        "encoder = keras.models.Sequential([\n",
        "  keras.layers.Flatten(input_shape=[28, 28]),\n",
        "  keras.layers.Dropout(0.5),\n",
        "  keras.layers.Dense(100, activation=\"selu\"),\n",
        "  keras.layers.Dense(30, activation=\"selu\")\n",
        "])\n",
        "decoder = keras.models.Sequential([\n",
        "  keras.layers.Dense(100, activation=\"selu\", input_shape=[30]),\n",
        "  keras.layers.Dense(28*28, activation=\"sigmoid\"),\n",
        "  keras.layers.Reshape([28, 28])\n",
        "])\n",
        "ae = keras.models.Sequential([encoder, decoder])\n",
        "ae.compile(loss=\"binary_crossentropy\", optimizer=keras.optimizers.SGD(lr=1.5))\n",
        "history=ae.fit(x_train, x_train, epochs=10, validation_split=0.1)\n",
        "\n",
        "# Visualise results\n",
        "import matplotlib.pyplot as plt\n",
        "def plot_image(image):\n",
        "  plt.imshow(image, cmap=\"binary\")\n",
        "  plt.axis(\"off\")\n",
        "\n",
        "n_images = 5\n",
        "reconstructions = ae.predict(x_test[:n_images])\n",
        "fig=plt.figure(figsize=(n_images*1.5, 3))\n",
        "for idx in range(n_images):\n",
        "  plt.subplot(2, n_images, 1+idx)\n",
        "  plot_image(x_test[idx])\n",
        "  plt.subplot(2, n_images, 1+n_images+idx)\n",
        "  plot_image(reconstructions[idx])"
      ],
      "execution_count": 0,
      "outputs": [
        {
          "output_type": "stream",
          "text": [
            "Downloading data from https://storage.googleapis.com/tensorflow/tf-keras-datasets/train-labels-idx1-ubyte.gz\n",
            "32768/29515 [=================================] - 0s 0us/step\n",
            "Downloading data from https://storage.googleapis.com/tensorflow/tf-keras-datasets/train-images-idx3-ubyte.gz\n",
            "26427392/26421880 [==============================] - 0s 0us/step\n",
            "Downloading data from https://storage.googleapis.com/tensorflow/tf-keras-datasets/t10k-labels-idx1-ubyte.gz\n",
            "8192/5148 [===============================================] - 0s 0us/step\n",
            "Downloading data from https://storage.googleapis.com/tensorflow/tf-keras-datasets/t10k-images-idx3-ubyte.gz\n",
            "4423680/4422102 [==============================] - 0s 0us/step\n",
            "WARNING:tensorflow:From /usr/local/lib/python3.6/dist-packages/tensorflow_core/python/keras/backend.py:4277: where (from tensorflow.python.ops.array_ops) is deprecated and will be removed in a future version.\n",
            "Instructions for updating:\n",
            "Use tf.where in 2.0, which has the same broadcast rule as np.where\n",
            "Train on 54000 samples, validate on 6000 samples\n",
            "Epoch 1/10\n",
            "54000/54000 [==============================] - 9s 176us/sample - loss: 0.3452 - val_loss: 0.3165\n",
            "Epoch 2/10\n",
            "54000/54000 [==============================] - 8s 156us/sample - loss: 0.3152 - val_loss: 0.3126\n",
            "Epoch 3/10\n",
            "54000/54000 [==============================] - 8s 154us/sample - loss: 0.3089 - val_loss: 0.3035\n",
            "Epoch 4/10\n",
            "54000/54000 [==============================] - 8s 155us/sample - loss: 0.3054 - val_loss: 0.3014\n",
            "Epoch 5/10\n",
            "54000/54000 [==============================] - 8s 154us/sample - loss: 0.3033 - val_loss: 0.2999\n",
            "Epoch 6/10\n",
            "54000/54000 [==============================] - 8s 153us/sample - loss: 0.3016 - val_loss: 0.2977\n",
            "Epoch 7/10\n",
            "54000/54000 [==============================] - 8s 155us/sample - loss: 0.3002 - val_loss: 0.2969\n",
            "Epoch 8/10\n",
            "54000/54000 [==============================] - 8s 154us/sample - loss: 0.2991 - val_loss: 0.2951\n",
            "Epoch 9/10\n",
            "54000/54000 [==============================] - 8s 153us/sample - loss: 0.2981 - val_loss: 0.2950\n",
            "Epoch 10/10\n",
            "54000/54000 [==============================] - 8s 154us/sample - loss: 0.2973 - val_loss: 0.2948\n"
          ],
          "name": "stdout"
        },
        {
          "output_type": "display_data",
          "data": {
            "image/png": "[encoded data removed]",
            "text/plain": [
              "<Figure size 540x216 with 10 Axes>"
            ]
          },
          "metadata": {
            "tags": []
          }
        }
      ]
    },
    {
      "cell_type": "markdown",
      "metadata": {
        "id": "jjdgxvqBFGUZ",
        "colab_type": "text"
      },
      "source": [
        "**Task 3**: Test the capability of denoising for removing noise of input images. Use the given code to add noise to the test images."
      ]
    },
    {
      "cell_type": "code",
      "metadata": {
        "id": "nwV5h7LMFSEk",
        "colab_type": "code",
        "outputId": "61959f51-1b91-4c15-eecc-10a109883a05",
        "colab": {
          "base_uri": "https://localhost:8080/",
          "height": 192
        }
      },
      "source": [
        "import numpy as np\n",
        "def add_gaussian_noise(image):\n",
        "    # image must be scaled in [0, 1]\n",
        "    with tf.name_scope('Add_gaussian_noise'):\n",
        "        noise = tf.random_normal(shape=tf.shape(image), mean=0.0, stddev=(50)/(255), dtype=tf.float32)\n",
        "        noise_img = image + noise\n",
        "        noise_img = tf.clip_by_value(noise_img, 0.0, 1.0)\n",
        "    return noise_img.eval(session=tf.compat.v1.Session())\n",
        "\n",
        "n_images = 5\n",
        "test = np.zeros((n_images, 28, 28))\n",
        "for idx in range(n_images):\n",
        "  test[idx] = add_gaussian_noise(x_test[idx])\n",
        "\n",
        "reconstructions = ae.predict(test[:n_images])\n",
        "fig=plt.figure(figsize=(n_images*1.5, 3))\n",
        "for idx in range(n_images):\n",
        "  plt.subplot(2, n_images, 1+idx)\n",
        "  plot_image(test[idx])\n",
        "  plt.subplot(2, n_images, 1+n_images+idx)\n",
        "  plot_image(reconstructions[idx])"
      ],
      "execution_count": 0,
      "outputs": [
        {
          "output_type": "display_data",
          "data": {
            "image/png": "[encoded data removed]",
            "text/plain": [
              "<Figure size 540x216 with 10 Axes>"
            ]
          },
          "metadata": {
            "tags": []
          }
        }
      ]
    },
    {
      "cell_type": "markdown",
      "metadata": {
        "id": "1iJW0yLU77mk",
        "colab_type": "text"
      },
      "source": [
        "**Task 4**: Build an autoencoder for MNIST Fashion Dataset. As they are images, it is possible to use convolutional layers (Conv2D) followed by pooling (MaxPool2D). For the decoder, uses Conv2DTranspose to achieve convolution and upsampling.\n",
        "\n",
        "Hint: the last layer uses Sigmoid activation to map the output to (0, 1). \n",
        "Hint: Use a dense layer to map convolutional layer output to a latent vector representation."
      ]
    },
    {
      "cell_type": "code",
      "metadata": {
        "id": "_7udvk82Iw9x",
        "colab_type": "code",
        "outputId": "8cb33c42-e0e4-4671-d2da-ec608b7255ef",
        "colab": {
          "base_uri": "https://localhost:8080/",
          "height": 556
        }
      },
      "source": [
        "# Autoencoder example using fashion MNIST\n",
        "# Load image data\n",
        "fashion_mnist = keras.datasets.fashion_mnist\n",
        "(x_train, y_train), (x_test, y_test) = fashion_mnist.load_data()\n",
        "class_names = [\"T-shirt/top\", \"Trouser\", \"Pullover\", \"Dress\", \"Coat\", \"Sandal\", \"Shirt\", \"Sneaker\", \"Bag\", \"Ankle boot\"]\n",
        "\n",
        "# Data preparation:\n",
        "#   Map intensities from [0--255] to 0.0--1.0\n",
        "x_train = x_train / 255.0\n",
        "x_test = x_test / 255.0\n",
        "encoder = keras.models.Sequential([\n",
        "  keras.layers.Reshape([28, 28, 1], input_shape=[28, 28]),\n",
        "  keras.layers.Conv2D(16, kernel_size=3, padding=\"same\", activation=\"selu\"),\n",
        "  keras.layers.MaxPool2D(pool_size=2),\n",
        "  keras.layers.Conv2D(32, kernel_size=3, padding=\"same\", activation=\"selu\"),\n",
        "  keras.layers.MaxPool2D(pool_size=2),\n",
        "  keras.layers.Flatten(),\n",
        "  keras.layers.Dense(30, activation=\"selu\")\n",
        "])\n",
        "decoder = keras.models.Sequential([\n",
        "  keras.layers.Dense(32*7*7, input_shape=[30], activation=\"selu\"),\n",
        "  keras.layers.Reshape([7, 7, 32]),\n",
        "  keras.layers.Conv2DTranspose(16, kernel_size=3, strides=2, padding=\"same\", activation=\"selu\"),\n",
        "  keras.layers.Conv2DTranspose(1, kernel_size=3, strides=2, padding=\"same\", activation=\"sigmoid\"),\n",
        "  keras.layers.Reshape([28, 28])\n",
        "])\n",
        "ae = keras.models.Sequential([encoder, decoder])\n",
        "ae.compile(loss=\"binary_crossentropy\", optimizer=keras.optimizers.SGD(lr=1.5))\n",
        "history=ae.fit(x_train, x_train, epochs=10, validation_split=0.1)\n",
        "\n",
        "# Visualise results\n",
        "import matplotlib.pyplot as plt\n",
        "def plot_image(image):\n",
        "  plt.imshow(image, cmap=\"binary\")\n",
        "  plt.axis(\"off\")\n",
        "\n",
        "n_images = 5\n",
        "reconstructions = ae.predict(x_test[:n_images])\n",
        "fig=plt.figure(figsize=(n_images*1.5, 3))\n",
        "for idx in range(n_images):\n",
        "  plt.subplot(2, n_images, 1+idx)\n",
        "  plot_image(x_test[idx])\n",
        "  plt.subplot(2, n_images, 1+n_images+idx)\n",
        "  plot_image(reconstructions[idx])"
      ],
      "execution_count": 0,
      "outputs": [
        {
          "output_type": "stream",
          "text": [
            "Train on 54000 samples, validate on 6000 samples\n",
            "Epoch 1/10\n",
            "54000/54000 [==============================] - 69s 1ms/sample - loss: 0.3113 - val_loss: 0.2899\n",
            "Epoch 2/10\n",
            "54000/54000 [==============================] - 67s 1ms/sample - loss: 0.2846 - val_loss: 0.2850\n",
            "Epoch 3/10\n",
            "54000/54000 [==============================] - 66s 1ms/sample - loss: 0.2803 - val_loss: 0.2830\n",
            "Epoch 4/10\n",
            "54000/54000 [==============================] - 66s 1ms/sample - loss: 0.2781 - val_loss: 0.2831\n",
            "Epoch 5/10\n",
            "54000/54000 [==============================] - 66s 1ms/sample - loss: 0.2768 - val_loss: 0.2783\n",
            "Epoch 6/10\n",
            "54000/54000 [==============================] - 66s 1ms/sample - loss: 0.2758 - val_loss: 0.2781\n",
            "Epoch 7/10\n",
            "54000/54000 [==============================] - 66s 1ms/sample - loss: 0.2750 - val_loss: 0.2772\n",
            "Epoch 8/10\n",
            "54000/54000 [==============================] - 66s 1ms/sample - loss: 0.2744 - val_loss: 0.2769\n",
            "Epoch 9/10\n",
            "54000/54000 [==============================] - 66s 1ms/sample - loss: 0.2740 - val_loss: 0.2756\n",
            "Epoch 10/10\n",
            "54000/54000 [==============================] - 67s 1ms/sample - loss: 0.2735 - val_loss: 0.2826\n"
          ],
          "name": "stdout"
        },
        {
          "output_type": "display_data",
          "data": {
            "image/png": "[encoded data removed]",
            "text/plain": [
              "<Figure size 540x216 with 10 Axes>"
            ]
          },
          "metadata": {
            "tags": []
          }
        }
      ]
    }
  ]
}