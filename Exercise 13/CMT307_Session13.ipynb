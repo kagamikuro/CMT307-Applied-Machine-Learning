{
  "nbformat": 4,
  "nbformat_minor": 0,
  "metadata": {
    "colab": {
      "name": "CMT307_Session13.ipynb",
      "provenance": [],
      "collapsed_sections": []
    },
    "kernelspec": {
      "name": "python3",
      "display_name": "Python 3"
    },
    "accelerator": "GPU"
  },
  "cells": [
    {
      "cell_type": "markdown",
      "metadata": {
        "id": "dX5AeAMecX33",
        "colab_type": "text"
      },
      "source": [
        "**Classification using Pre-trained Networks**"
      ]
    },
    {
      "cell_type": "code",
      "metadata": {
        "id": "tcK-dWjfcd1O",
        "colab_type": "code",
        "colab": {}
      },
      "source": [
        "# import Keras & Tensorflow\n",
        "import tensorflow as tf\n",
        "from tensorflow import keras\n",
        "\n",
        "# Load pre-trained Resnet50\n",
        "model = keras.applications.resnet50.ResNet50(weights=\"imagenet\")"
      ],
      "execution_count": 0,
      "outputs": []
    },
    {
      "cell_type": "code",
      "metadata": {
        "id": "IWIiKLKZc_eI",
        "colab_type": "code",
        "colab": {
          "base_uri": "https://localhost:8080/",
          "height": 55
        },
        "outputId": "10e32e45-3d11-45b2-90d0-f3d48355af3f"
      },
      "source": [
        "# Connect with Google Drive\n",
        "from google.colab import drive\n",
        "drive.mount('/content/gdrive')"
      ],
      "execution_count": 15,
      "outputs": [
        {
          "output_type": "stream",
          "text": [
            "Drive already mounted at /content/gdrive; to attempt to forcibly remount, call drive.mount(\"/content/gdrive\", force_remount=True).\n"
          ],
          "name": "stdout"
        }
      ]
    },
    {
      "cell_type": "code",
      "metadata": {
        "id": "ZmCSmbwBgh-x",
        "colab_type": "code",
        "colab": {}
      },
      "source": [
        "model.summary()"
      ],
      "execution_count": 0,
      "outputs": []
    },
    {
      "cell_type": "code",
      "metadata": {
        "id": "MgPbcetbdMgo",
        "colab_type": "code",
        "outputId": "ef1eea0c-a59f-4e17-ab5d-0a9b574ab07d",
        "colab": {
          "base_uri": "https://localhost:8080/",
          "height": 87
        }
      },
      "source": [
        "# Load in image and perform classification\n",
        "import keras.preprocessing.image as image\n",
        "img = image.load_img(\"/content/gdrive/My Drive/elephant.jpg\", target_size=(224, 224)) # the image is in the root of Google Drive\n",
        "# convert the image pixels to a numpy array\n",
        "img = image.img_to_array(img)\n",
        "# reshape data for the model\n",
        "img = img.reshape((1, img.shape[0], img.shape[1], img.shape[2]))\n",
        "# prepare the image for the model\n",
        "img = keras.applications.resnet50.preprocess_input(img)\n",
        "Y_prob = model.predict(img)\n",
        "# Show top K prediction\n",
        "top_K = keras.applications.resnet50.decode_predictions(Y_prob, top=3)\n",
        "for class_id, name, y_proba in top_K[0]:\n",
        "  print(\"class_id:\", class_id, \"name:\", name, \" \", y_proba*100, \"%\")\n",
        "\n"
      ],
      "execution_count": 0,
      "outputs": [
        {
          "output_type": "stream",
          "text": [
            "Using TensorFlow backend.\n"
          ],
          "name": "stderr"
        },
        {
          "output_type": "stream",
          "text": [
            "class_id: n02504458 name: African_elephant   88.72683644294739 %\n",
            "class_id: n01871265 name: tusker   5.695364996790886 %\n",
            "class_id: n02504013 name: Indian_elephant   4.0331341326236725 %\n"
          ],
          "name": "stdout"
        }
      ]
    },
    {
      "cell_type": "markdown",
      "metadata": {
        "id": "GCOdsA5jigVL",
        "colab_type": "text"
      },
      "source": [
        "**Fine-tuning pre-trained models**"
      ]
    },
    {
      "cell_type": "code",
      "metadata": {
        "id": "12JUO69pifln",
        "colab_type": "code",
        "outputId": "aac2d155-c969-4bdf-ae34-d86cf4a02f3e",
        "colab": {
          "base_uri": "https://localhost:8080/",
          "height": 69
        }
      },
      "source": [
        "# We use Tensorflow provided tf_flowers dataset\n",
        "# https://www.tensorflow.org/tutorials/load_data/images\n",
        "import tensorflow_datasets as tfds\n",
        "dataset, info = tfds.load(\"tf_flowers\", as_supervised=True, with_info=True)\n",
        "dataset_size = info.splits[\"train\"].num_examples\n",
        "print(\"size: \", dataset_size)\n",
        "class_names = info.features[\"label\"].names\n",
        "print(\"classes: \", class_names)\n",
        "n_classes = info.features[\"label\"].num_classes\n",
        "print(\"num. classes: \", n_classes)"
      ],
      "execution_count": 22,
      "outputs": [
        {
          "output_type": "stream",
          "text": [
            "size:  3670\n",
            "classes:  ['dandelion', 'daisy', 'tulips', 'sunflowers', 'roses']\n",
            "num. classes:  5\n"
          ],
          "name": "stdout"
        }
      ]
    },
    {
      "cell_type": "code",
      "metadata": {
        "id": "JqtYzIbRkCvW",
        "colab_type": "code",
        "colab": {}
      },
      "source": [
        "# Split data into training, test and validation\n",
        "# Setting as_supervised to True to include ground truth labels\n",
        "test_set = tfds.load(\"tf_flowers\", split=\"train[:10%]\", as_supervised=True)\n",
        "valid_set = tfds.load(\"tf_flowers\", split=\"train[10%:25%]\", as_supervised=True)\n",
        "train_set = tfds.load(\"tf_flowers\", split=\"train[25%:]\", as_supervised=True)"
      ],
      "execution_count": 0,
      "outputs": []
    },
    {
      "cell_type": "code",
      "metadata": {
        "id": "KPrX7LatnSia",
        "colab_type": "code",
        "colab": {}
      },
      "source": [
        "# Data preprocessing\n",
        "def preprocess(image, label):\n",
        "  resized_image = tf.image.resize(image, [224, 224])\n",
        "  final_image = keras.applications.xception.preprocess_input(resized_image)\n",
        "  return final_image, label\n",
        "\n",
        "batch_size = 32\n",
        "train_set = train_set.shuffle(1000)\n",
        "train_set = train_set.map(preprocess).repeat().batch(batch_size).prefetch(1)\n",
        "valid_set = valid_set.map(preprocess).repeat().batch(batch_size).prefetch(1)\n",
        "test_set = test_set.map(preprocess).batch(batch_size).prefetch(1)"
      ],
      "execution_count": 0,
      "outputs": []
    },
    {
      "cell_type": "code",
      "metadata": {
        "id": "rPHBbxCyoeTV",
        "colab_type": "code",
        "colab": {}
      },
      "source": [
        "# Fine-tuning xception model\n",
        "base_model = keras.applications.xception.Xception(weights=\"imagenet\", include_top=False)\n",
        "avg = keras.layers.GlobalAveragePooling2D()(base_model.output)\n",
        "output = keras.layers.Dense(n_classes, activation=\"softmax\")(avg)\n",
        "model = keras.Model(inputs=base_model.input, outputs=output)\n",
        "model.summary()"
      ],
      "execution_count": 0,
      "outputs": []
    },
    {
      "cell_type": "code",
      "metadata": {
        "id": "Bo8aGgtgpCK0",
        "colab_type": "code",
        "outputId": "7b091f69-8f0b-4e90-a938-0a5d57656dbb",
        "colab": {
          "base_uri": "https://localhost:8080/",
          "height": 228
        }
      },
      "source": [
        "# Training with existing layers fixed\n",
        "for layer in base_model.layers:\n",
        "  layer.trainable = False\n",
        "optimizer = keras.optimizers.SGD(lr=0.2, momentum=0.9, decay=0.01)\n",
        "model.compile(loss=\"sparse_categorical_crossentropy\", optimizer=optimizer, metrics=[\"accuracy\"])\n",
        "history = model.fit(train_set, epochs=5, steps_per_epoch=dataset_size*0.75//batch_size, validation_data=valid_set, validation_steps = dataset_size*0.15//batch_size)\n"
      ],
      "execution_count": 0,
      "outputs": [
        {
          "output_type": "stream",
          "text": [
            "Train for 86.0 steps, validate for 17.0 steps\n",
            "Epoch 1/5\n",
            "86/86 [==============================] - 1069s 12s/step - loss: 0.6828 - accuracy: 0.7809 - val_loss: 1.6288 - val_accuracy: 0.6949\n",
            "Epoch 2/5\n",
            "86/86 [==============================] - 1055s 12s/step - loss: 0.3677 - accuracy: 0.8786 - val_loss: 1.1511 - val_accuracy: 0.7537\n",
            "Epoch 3/5\n",
            "86/86 [==============================] - 1056s 12s/step - loss: 0.2320 - accuracy: 0.9193 - val_loss: 1.0347 - val_accuracy: 0.7629\n",
            "Epoch 4/5\n",
            "86/86 [==============================] - 1058s 12s/step - loss: 0.1809 - accuracy: 0.9415 - val_loss: 1.2009 - val_accuracy: 0.7518\n",
            "Epoch 5/5\n",
            "52/86 [=================>............] - ETA: 6:07 - loss: 0.1810 - accuracy: 0.9417"
          ],
          "name": "stdout"
        }
      ]
    },
    {
      "cell_type": "code",
      "metadata": {
        "id": "e_pytWAdDADE",
        "colab_type": "code",
        "colab": {}
      },
      "source": [
        "# The model can be further trained with base layers unfrozen\n",
        "for layer in base_model.layers:\n",
        "  layer.trainable = True\n",
        "\n",
        "optimizer = keras.optimizers.SGD(lr=0.01, momentum=0.9, decay=0.001)\n",
        "model.compile(loss=\"sparse_categorical_crossentropy\", optimizer=optimizer, metrics=[\"accuracy\"])\n",
        "history = model.fit(train_set, epochs=40, steps_per_epoch=dataset_size*0.75//batch_size, validation_data=valid_set, validation_steps = dataset_size*0.15//batch_size)\n"
      ],
      "execution_count": 0,
      "outputs": []
    },
    {
      "cell_type": "code",
      "metadata": {
        "id": "b-xW85PVyj1Y",
        "colab_type": "code",
        "outputId": "93fbb52d-a05f-4282-efcd-6ffff35a3a39",
        "colab": {
          "base_uri": "https://localhost:8080/",
          "height": 381
        }
      },
      "source": [
        "# Autoencoder example using fashion MNIST\n",
        "# Load image data\n",
        "fashion_mnist = keras.datasets.fashion_mnist\n",
        "(x_train, y_train), (x_test, y_test) = fashion_mnist.load_data()\n",
        "class_names = [\"T-shirt/top\", \"Trouser\", \"Pullover\", \"Dress\", \"Coat\", \"Sandal\", \"Shirt\", \"Sneaker\", \"Bag\", \"Ankle boot\"]\n",
        "\n",
        "# Data preparation:\n",
        "#   Map intensities from [0--255] to 0.0--1.0\n",
        "x_train = x_train / 255.0\n",
        "x_test = x_test / 255.0\n",
        "encoder = keras.models.Sequential([\n",
        "  keras.layers.Flatten(input_shape=[28, 28]),\n",
        "  keras.layers.Dense(100, activation=\"selu\"),\n",
        "  keras.layers.Dense(30, activation=\"selu\")\n",
        "])\n",
        "decoder = keras.models.Sequential([\n",
        "  keras.layers.Dense(100, activation=\"selu\", input_shape=[30]),\n",
        "  keras.layers.Dense(28*28, activation=\"sigmoid\"),\n",
        "  keras.layers.Reshape([28, 28])\n",
        "])\n",
        "ae = keras.models.Sequential([encoder, decoder])\n",
        "ae.compile(loss=\"binary_crossentropy\", optimizer=keras.optimizers.SGD(lr=1.5))\n",
        "history=ae.fit(x_train, x_train, epochs=10, validation_split=0.1)"
      ],
      "execution_count": 16,
      "outputs": [
        {
          "output_type": "stream",
          "text": [
            "Train on 54000 samples, validate on 6000 samples\n",
            "Epoch 1/10\n",
            "54000/54000 [==============================] - 10s 192us/sample - loss: 0.3384 - val_loss: 0.3127\n",
            "Epoch 2/10\n",
            "54000/54000 [==============================] - 9s 173us/sample - loss: 0.3058 - val_loss: 0.3056\n",
            "Epoch 3/10\n",
            "54000/54000 [==============================] - 9s 173us/sample - loss: 0.2994 - val_loss: 0.2991\n",
            "Epoch 4/10\n",
            "54000/54000 [==============================] - 9s 174us/sample - loss: 0.2955 - val_loss: 0.2971\n",
            "Epoch 5/10\n",
            "54000/54000 [==============================] - 9s 172us/sample - loss: 0.2928 - val_loss: 0.2974\n",
            "Epoch 6/10\n",
            "54000/54000 [==============================] - 9s 169us/sample - loss: 0.2908 - val_loss: 0.2952\n",
            "Epoch 7/10\n",
            "54000/54000 [==============================] - 9s 170us/sample - loss: 0.2893 - val_loss: 0.2911\n",
            "Epoch 8/10\n",
            "54000/54000 [==============================] - 9s 170us/sample - loss: 0.2882 - val_loss: 0.2895\n",
            "Epoch 9/10\n",
            "54000/54000 [==============================] - 9s 171us/sample - loss: 0.2872 - val_loss: 0.2891\n",
            "Epoch 10/10\n",
            "54000/54000 [==============================] - 9s 171us/sample - loss: 0.2863 - val_loss: 0.2882\n"
          ],
          "name": "stdout"
        }
      ]
    },
    {
      "cell_type": "code",
      "metadata": {
        "id": "r21RdiSxvoLv",
        "colab_type": "code",
        "outputId": "845ac48f-de9a-4643-d35d-0a8d209a05ce",
        "colab": {
          "base_uri": "https://localhost:8080/",
          "height": 192
        }
      },
      "source": [
        "# Visualise results\n",
        "import matplotlib.pyplot as plt\n",
        "def plot_image(image):\n",
        "  plt.imshow(image, cmap=\"binary\")\n",
        "  plt.axis(\"off\")\n",
        "\n",
        "n_images = 5\n",
        "reconstructions = ae.predict(x_test[:n_images])\n",
        "fig=plt.figure(figsize=(n_images*1.5, 3))\n",
        "for idx in range(n_images):\n",
        "  plt.subplot(2, n_images, 1+idx)\n",
        "  plot_image(x_test[idx])\n",
        "  plt.subplot(2, n_images, 1+n_images+idx)\n",
        "  plot_image(reconstructions[idx])\n",
        "  "
      ],
      "execution_count": 18,
      "outputs": [
        {
          "output_type": "display_data",
          "data": {
            "image/png": "[encoded data removed]",
            "text/plain": [
              "<Figure size 540x216 with 10 Axes>"
            ]
          },
          "metadata": {
            "tags": []
          }
        }
      ]
    }
  ]
}