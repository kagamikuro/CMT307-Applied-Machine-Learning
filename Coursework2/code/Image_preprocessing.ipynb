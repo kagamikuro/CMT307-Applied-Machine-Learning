{
  "nbformat": 4,
  "nbformat_minor": 0,
  "metadata": {
    "colab": {
      "name": "Image_preprocessing.ipynb",
      "provenance": [],
      "collapsed_sections": []
    },
    "kernelspec": {
      "name": "python3",
      "display_name": "Python 3"
    }
  },
  "cells": [
    {
      "cell_type": "code",
      "metadata": {
        "id": "euvyJohzNnS-",
        "colab_type": "code",
        "colab": {}
      },
      "source": [
        "#Import  packages\n",
        "\n",
        "import numpy\n",
        "from keras.models import Sequential\n",
        "from keras.layers import Dense, Dropout, Flatten, BatchNormalization, Activation\n",
        "from keras.layers.convolutional import Conv2D, MaxPooling2D\n",
        "from keras.constraints import maxnorm\n",
        "from keras.utils import np_utils\n",
        "\n",
        "# Set random seed for purposes of reproducibility\n",
        "seed = 21"
      ],
      "execution_count": 0,
      "outputs": []
    },
    {
      "cell_type": "code",
      "metadata": {
        "id": "8REeZPAvN4RM",
        "colab_type": "code",
        "colab": {}
      },
      "source": [
        "from keras.datasets import cifar10\n",
        "\n",
        "# loading in the data\n",
        "(X_train, y_train), (X_test, y_test) = cifar10.load_data()"
      ],
      "execution_count": 0,
      "outputs": []
    },
    {
      "cell_type": "code",
      "metadata": {
        "id": "9DPnw3laOLTt",
        "colab_type": "code",
        "colab": {}
      },
      "source": [
        "# Normalize the inputs from 0-255 to between 0 and 1 by dividing by 255\n",
        "    \n",
        "X_train = X_train.astype('float32')\n",
        "X_test = X_test.astype('float32')\n",
        "X_train = X_train / 255.0\n",
        "X_test = X_test / 255.0\n",
        "\n",
        "# One hot encode outputs\n",
        "y_train = np_utils.to_categorical(y_train)\n",
        "y_test = np_utils.to_categorical(y_test)\n",
        "class_num = y_test.shape[1]\n"
      ],
      "execution_count": 0,
      "outputs": []
    },
    {
      "cell_type": "code",
      "metadata": {
        "id": "VtyQjP9QOmiU",
        "colab_type": "code",
        "colab": {}
      },
      "source": [
        "# Create Model\n",
        "\n",
        "model = Sequential()\n",
        "model.add(Conv2D(32, (3, 3), input_shape=X_train.shape[1:], padding='same'))\n",
        "model.add(Activation('relu'))\n",
        "\n",
        "# Randomly remove connections to prevent overfitting\n",
        "model.add(Dropout(0.2))\n",
        "\n",
        "# Normalize the inputs heading into the next layer\n",
        "model.add(BatchNormalization())\n",
        "\n",
        "# Another convolutional layer, but the filter size increases so the network can learn more complex representations\n",
        "model.add(Conv2D(64, (3, 3), padding='same'))\n",
        "model.add(Activation('relu'))\n",
        "\n",
        "# Pooling\n",
        "model.add(MaxPooling2D(pool_size=(2, 2)))\n",
        "\n",
        "# Another Dropout\n",
        "model.add(Dropout(0.2))\n",
        "# Another Normalizaton\n",
        "model.add(BatchNormalization())\n",
        "\n",
        "model.add(Conv2D(64, (3, 3), padding='same'))\n",
        "model.add(Activation('relu'))\n",
        "model.add(MaxPooling2D(pool_size=(2, 2)))\n",
        "model.add(Dropout(0.2))\n",
        "model.add(BatchNormalization())\n",
        "    \n",
        "model.add(Conv2D(128, (3, 3), padding='same'))\n",
        "model.add(Activation('relu'))\n",
        "model.add(Dropout(0.2))\n",
        "model.add(BatchNormalization())\n",
        "\n",
        "# Flatten the data\n",
        "model.add(Flatten())\n",
        "\n",
        "model.add(Dropout(0.2))"
      ],
      "execution_count": 0,
      "outputs": []
    },
    {
      "cell_type": "code",
      "metadata": {
        "id": "d7wjWqfiQaWL",
        "colab_type": "code",
        "colab": {}
      },
      "source": [
        "# Create densly connected neural network layer\n",
        "model.add(Dense(256, kernel_constraint=maxnorm(3)))\n",
        "model.add(Activation('relu'))\n",
        "model.add(Dropout(0.2))\n",
        "model.add(BatchNormalization())\n",
        "    \n",
        "model.add(Dense(128, kernel_constraint=maxnorm(3)))\n",
        "model.add(Activation('relu'))\n",
        "model.add(Dropout(0.2))\n",
        "model.add(BatchNormalization())\n",
        "\n",
        "# Vote for highest probability node\n",
        "model.add(Dense(class_num))\n",
        "model.add(Activation('softmax'))"
      ],
      "execution_count": 0,
      "outputs": []
    },
    {
      "cell_type": "code",
      "metadata": {
        "id": "EPBqqM7VQ3nR",
        "colab_type": "code",
        "outputId": "0a8453f8-39ef-4945-b00d-b5355386cf3c",
        "colab": {
          "base_uri": "https://localhost:8080/",
          "height": 1000
        }
      },
      "source": [
        "#Number of epochs and optimizer algorithm to use\n",
        "epochs = 25\n",
        "optimizer = 'adam'\n",
        "\n",
        "# Compile Model\n",
        "model.compile(loss='categorical_crossentropy', optimizer=optimizer, metrics=['accuracy'])\n",
        "\n",
        "#Print Model Summary\n",
        "print(model.summary())"
      ],
      "execution_count": 0,
      "outputs": [
        {
          "output_type": "stream",
          "text": [
            "Model: \"sequential_8\"\n",
            "_________________________________________________________________\n",
            "Layer (type)                 Output Shape              Param #   \n",
            "=================================================================\n",
            "conv2d_10 (Conv2D)           (None, 32, 32, 32)        896       \n",
            "_________________________________________________________________\n",
            "activation_13 (Activation)   (None, 32, 32, 32)        0         \n",
            "_________________________________________________________________\n",
            "dropout_11 (Dropout)         (None, 32, 32, 32)        0         \n",
            "_________________________________________________________________\n",
            "batch_normalization_9 (Batch (None, 32, 32, 32)        128       \n",
            "_________________________________________________________________\n",
            "conv2d_11 (Conv2D)           (None, 32, 32, 64)        18496     \n",
            "_________________________________________________________________\n",
            "activation_14 (Activation)   (None, 32, 32, 64)        0         \n",
            "_________________________________________________________________\n",
            "max_pooling2d_3 (MaxPooling2 (None, 16, 16, 64)        0         \n",
            "_________________________________________________________________\n",
            "dropout_12 (Dropout)         (None, 16, 16, 64)        0         \n",
            "_________________________________________________________________\n",
            "batch_normalization_10 (Batc (None, 16, 16, 64)        256       \n",
            "_________________________________________________________________\n",
            "conv2d_12 (Conv2D)           (None, 16, 16, 64)        36928     \n",
            "_________________________________________________________________\n",
            "activation_15 (Activation)   (None, 16, 16, 64)        0         \n",
            "_________________________________________________________________\n",
            "max_pooling2d_4 (MaxPooling2 (None, 8, 8, 64)          0         \n",
            "_________________________________________________________________\n",
            "dropout_13 (Dropout)         (None, 8, 8, 64)          0         \n",
            "_________________________________________________________________\n",
            "batch_normalization_11 (Batc (None, 8, 8, 64)          256       \n",
            "_________________________________________________________________\n",
            "conv2d_13 (Conv2D)           (None, 8, 8, 128)         73856     \n",
            "_________________________________________________________________\n",
            "activation_16 (Activation)   (None, 8, 8, 128)         0         \n",
            "_________________________________________________________________\n",
            "dropout_14 (Dropout)         (None, 8, 8, 128)         0         \n",
            "_________________________________________________________________\n",
            "batch_normalization_12 (Batc (None, 8, 8, 128)         512       \n",
            "_________________________________________________________________\n",
            "flatten_2 (Flatten)          (None, 8192)              0         \n",
            "_________________________________________________________________\n",
            "dropout_15 (Dropout)         (None, 8192)              0         \n",
            "_________________________________________________________________\n",
            "dense_4 (Dense)              (None, 256)               2097408   \n",
            "_________________________________________________________________\n",
            "activation_17 (Activation)   (None, 256)               0         \n",
            "_________________________________________________________________\n",
            "dropout_16 (Dropout)         (None, 256)               0         \n",
            "_________________________________________________________________\n",
            "batch_normalization_13 (Batc (None, 256)               1024      \n",
            "_________________________________________________________________\n",
            "dense_5 (Dense)              (None, 128)               32896     \n",
            "_________________________________________________________________\n",
            "activation_18 (Activation)   (None, 128)               0         \n",
            "_________________________________________________________________\n",
            "dropout_17 (Dropout)         (None, 128)               0         \n",
            "_________________________________________________________________\n",
            "batch_normalization_14 (Batc (None, 128)               512       \n",
            "_________________________________________________________________\n",
            "dense_6 (Dense)              (None, 10)                1290      \n",
            "_________________________________________________________________\n",
            "activation_19 (Activation)   (None, 10)                0         \n",
            "=================================================================\n",
            "Total params: 2,264,458\n",
            "Trainable params: 2,263,114\n",
            "Non-trainable params: 1,344\n",
            "_________________________________________________________________\n",
            "None\n"
          ],
          "name": "stdout"
        }
      ]
    },
    {
      "cell_type": "code",
      "metadata": {
        "id": "0JVfAqqrRVDp",
        "colab_type": "code",
        "outputId": "3cd49e27-02ad-4dd6-f398-17c3cdbf96cd",
        "colab": {
          "base_uri": "https://localhost:8080/",
          "height": 1000
        }
      },
      "source": [
        "#Fit the model with the seed chosen above.\n",
        "numpy.random.seed(seed)\n",
        "model.fit(X_train, y_train, validation_data=(X_test, y_test), epochs=epochs, batch_size=64)"
      ],
      "execution_count": 0,
      "outputs": [
        {
          "output_type": "stream",
          "text": [
            "WARNING:tensorflow:From /usr/local/lib/python3.6/dist-packages/tensorflow_core/python/ops/math_grad.py:1424: where (from tensorflow.python.ops.array_ops) is deprecated and will be removed in a future version.\n",
            "Instructions for updating:\n",
            "Use tf.where in 2.0, which has the same broadcast rule as np.where\n",
            "WARNING:tensorflow:From /usr/local/lib/python3.6/dist-packages/keras/backend/tensorflow_backend.py:1033: The name tf.assign_add is deprecated. Please use tf.compat.v1.assign_add instead.\n",
            "\n",
            "WARNING:tensorflow:From /usr/local/lib/python3.6/dist-packages/keras/backend/tensorflow_backend.py:1020: The name tf.assign is deprecated. Please use tf.compat.v1.assign instead.\n",
            "\n",
            "Train on 50000 samples, validate on 10000 samples\n",
            "Epoch 1/25\n",
            "50000/50000 [==============================] - 489s 10ms/step - loss: 1.5115 - acc: 0.4603 - val_loss: 1.1165 - val_acc: 0.5925\n",
            "Epoch 2/25\n",
            "50000/50000 [==============================] - 486s 10ms/step - loss: 1.0361 - acc: 0.6318 - val_loss: 0.8414 - val_acc: 0.7053\n",
            "Epoch 3/25\n",
            "50000/50000 [==============================] - 483s 10ms/step - loss: 0.8609 - acc: 0.6973 - val_loss: 0.7652 - val_acc: 0.7359\n",
            "Epoch 4/25\n",
            "50000/50000 [==============================] - 481s 10ms/step - loss: 0.7601 - acc: 0.7335 - val_loss: 0.7751 - val_acc: 0.7258\n",
            "Epoch 5/25\n",
            "50000/50000 [==============================] - 482s 10ms/step - loss: 0.7043 - acc: 0.7537 - val_loss: 0.6600 - val_acc: 0.7711\n",
            "Epoch 6/25\n",
            "50000/50000 [==============================] - 484s 10ms/step - loss: 0.6689 - acc: 0.7643 - val_loss: 0.7129 - val_acc: 0.7518\n",
            "Epoch 7/25\n",
            "50000/50000 [==============================] - 480s 10ms/step - loss: 0.6338 - acc: 0.7762 - val_loss: 0.6155 - val_acc: 0.7859\n",
            "Epoch 8/25\n",
            "50000/50000 [==============================] - 482s 10ms/step - loss: 0.6037 - acc: 0.7888 - val_loss: 0.6324 - val_acc: 0.7807\n",
            "Epoch 9/25\n",
            "50000/50000 [==============================] - 478s 10ms/step - loss: 0.5758 - acc: 0.7980 - val_loss: 0.5667 - val_acc: 0.8028\n",
            "Epoch 10/25\n",
            "50000/50000 [==============================] - 477s 10ms/step - loss: 0.5594 - acc: 0.8051 - val_loss: 0.6150 - val_acc: 0.7889\n",
            "Epoch 11/25\n",
            "50000/50000 [==============================] - 474s 9ms/step - loss: 0.5424 - acc: 0.8079 - val_loss: 0.6976 - val_acc: 0.7655\n",
            "Epoch 12/25\n",
            "50000/50000 [==============================] - 476s 10ms/step - loss: 0.5224 - acc: 0.8174 - val_loss: 0.5790 - val_acc: 0.8043\n",
            "Epoch 13/25\n",
            "50000/50000 [==============================] - 479s 10ms/step - loss: 0.5106 - acc: 0.8221 - val_loss: 0.5728 - val_acc: 0.8053\n",
            "Epoch 14/25\n",
            "50000/50000 [==============================] - 481s 10ms/step - loss: 0.5043 - acc: 0.8236 - val_loss: 0.5674 - val_acc: 0.8080\n",
            "Epoch 15/25\n",
            "50000/50000 [==============================] - 479s 10ms/step - loss: 0.4898 - acc: 0.8283 - val_loss: 0.5785 - val_acc: 0.8036\n",
            "Epoch 16/25\n",
            "50000/50000 [==============================] - 478s 10ms/step - loss: 0.4758 - acc: 0.8325 - val_loss: 0.5997 - val_acc: 0.7983\n",
            "Epoch 17/25\n",
            "50000/50000 [==============================] - 477s 10ms/step - loss: 0.4635 - acc: 0.8379 - val_loss: 0.6454 - val_acc: 0.7789\n",
            "Epoch 18/25\n",
            "50000/50000 [==============================] - 479s 10ms/step - loss: 0.4609 - acc: 0.8398 - val_loss: 0.5329 - val_acc: 0.8186\n",
            "Epoch 19/25\n",
            "50000/50000 [==============================] - 476s 10ms/step - loss: 0.4561 - acc: 0.8411 - val_loss: 0.5192 - val_acc: 0.8198\n",
            "Epoch 20/25\n",
            "50000/50000 [==============================] - 478s 10ms/step - loss: 0.4468 - acc: 0.8435 - val_loss: 0.5518 - val_acc: 0.8123\n",
            "Epoch 21/25\n",
            "50000/50000 [==============================] - 475s 9ms/step - loss: 0.4416 - acc: 0.8434 - val_loss: 0.5038 - val_acc: 0.8291\n",
            "Epoch 22/25\n",
            "50000/50000 [==============================] - 476s 10ms/step - loss: 0.4380 - acc: 0.8483 - val_loss: 0.5220 - val_acc: 0.8237\n",
            "Epoch 23/25\n",
            "50000/50000 [==============================] - 476s 10ms/step - loss: 0.4278 - acc: 0.8480 - val_loss: 0.5420 - val_acc: 0.8173\n",
            "Epoch 24/25\n",
            "50000/50000 [==============================] - 476s 10ms/step - loss: 0.4272 - acc: 0.8497 - val_loss: 0.5623 - val_acc: 0.8097\n",
            "Epoch 25/25\n",
            "50000/50000 [==============================] - 472s 9ms/step - loss: 0.4234 - acc: 0.8506 - val_loss: 0.5016 - val_acc: 0.8256\n"
          ],
          "name": "stdout"
        },
        {
          "output_type": "execute_result",
          "data": {
            "text/plain": [
              "<keras.callbacks.History at 0x7feca8d9a588>"
            ]
          },
          "metadata": {
            "tags": []
          },
          "execution_count": 27
        }
      ]
    },
    {
      "cell_type": "code",
      "metadata": {
        "id": "AOK-VcjLRiMz",
        "colab_type": "code",
        "outputId": "6552593d-9c1a-4613-8fca-8d75b9f26c10",
        "colab": {
          "base_uri": "https://localhost:8080/",
          "height": 34
        }
      },
      "source": [
        "# Model evaluation\n",
        "scores = model.evaluate(X_test, y_test, verbose=0)\n",
        "print(\"Accuracy: %.2f%%\" % (scores[1]*100))"
      ],
      "execution_count": 0,
      "outputs": [
        {
          "output_type": "stream",
          "text": [
            "Accuracy: 82.56%\n"
          ],
          "name": "stdout"
        }
      ]
    }
  ]
}