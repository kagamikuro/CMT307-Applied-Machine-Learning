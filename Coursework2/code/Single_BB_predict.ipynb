{
  "nbformat": 4,
  "nbformat_minor": 0,
  "metadata": {
    "colab": {
      "name": "Single_BB_predict.ipynb",
      "provenance": [],
      "collapsed_sections": []
    },
    "kernelspec": {
      "name": "python3",
      "display_name": "Python 3"
    },
    "accelerator": "GPU"
  },
  "cells": [
    {
      "cell_type": "code",
      "metadata": {
        "id": "I2ha8zgW6KSU",
        "colab_type": "code",
        "outputId": "387bb644-5298-49e2-e4c4-dab45a8808f1",
        "colab": {
          "base_uri": "https://localhost:8080/",
          "height": 83
        }
      },
      "source": [
        "#Import  packages\n",
        "\n",
        "import numpy as np\n",
        "import pandas as pd\n",
        "import glob\n",
        "import cv2\n",
        "import os\n",
        "import PIL\n",
        "from PIL import Image\n",
        "import tensorflow as tf\n",
        "from tensorflow import keras\n",
        "import keras.backend as K \n",
        "from keras.models import Sequential\n",
        "from keras.layers import Dense, Dropout, Flatten, BatchNormalization, Activation\n",
        "from keras.layers.convolutional import Conv2D, MaxPooling2D\n",
        "from keras.constraints import maxnorm\n",
        "from keras.utils import np_utils\n",
        "import matplotlib.pyplot as plt\n",
        "import matplotlib.patches as patches\n",
        "from PIL import ImageOps\n",
        "\n",
        "# Set random seed for purposes of reproducibility\n",
        "seed = 21"
      ],
      "execution_count": 0,
      "outputs": [
        {
          "output_type": "display_data",
          "data": {
            "text/html": [
              "<p style=\"color: red;\">\n",
              "The default version of TensorFlow in Colab will soon switch to TensorFlow 2.x.<br>\n",
              "We recommend you <a href=\"https://www.tensorflow.org/guide/migrate\" target=\"_blank\">upgrade</a> now \n",
              "or ensure your notebook will continue to use TensorFlow 1.x via the <code>%tensorflow_version 1.x</code> magic:\n",
              "<a href=\"https://colab.research.google.com/notebooks/tensorflow_version.ipynb\" target=\"_blank\">more info</a>.</p>\n"
            ],
            "text/plain": [
              "<IPython.core.display.HTML object>"
            ]
          },
          "metadata": {
            "tags": []
          }
        },
        {
          "output_type": "stream",
          "text": [
            "Using TensorFlow backend.\n"
          ],
          "name": "stderr"
        }
      ]
    },
    {
      "cell_type": "code",
      "metadata": {
        "id": "70CLJROn6QJE",
        "colab_type": "code",
        "outputId": "6e7e3647-9d8f-4d6d-c9de-8fe467f4ce2f",
        "colab": {
          "base_uri": "https://localhost:8080/",
          "height": 129
        }
      },
      "source": [
        "# Import files from Google drive\n",
        "from google.colab import drive\n",
        "drive.mount('/content/drive/')\n",
        "train_labels_path = '/content/drive/My Drive/train_labels.csv'\n",
        "test_labels_path = '/content/drive/My Drive/test_labels.csv'\n",
        "test_images = os.listdir('/content/drive/My Drive/datasets/val_set')\n",
        "train_images = os.listdir('/content/drive/My Drive/datasets/train_set')"
      ],
      "execution_count": 0,
      "outputs": [
        {
          "output_type": "stream",
          "text": [
            "Go to this URL in a browser: https://accounts.google.com/o/oauth2/auth?client_id=947318989803-6bn6qk8qdgf4n4g3pfee6491hc0brc4i.apps.googleusercontent.com&redirect_uri=urn%3aietf%3awg%3aoauth%3a2.0%3aoob&response_type=code&scope=email%20https%3a%2f%2fwww.googleapis.com%2fauth%2fdocs.test%20https%3a%2f%2fwww.googleapis.com%2fauth%2fdrive%20https%3a%2f%2fwww.googleapis.com%2fauth%2fdrive.photos.readonly%20https%3a%2f%2fwww.googleapis.com%2fauth%2fpeopleapi.readonly\n",
            "\n",
            "Enter your authorization code:\n",
            "··········\n",
            "Mounted at /content/drive/\n"
          ],
          "name": "stdout"
        }
      ]
    },
    {
      "cell_type": "code",
      "metadata": {
        "id": "uqbS_A7A6Rg2",
        "colab_type": "code",
        "outputId": "ea5632f9-d4f6-42b5-f617-60b40e111823",
        "colab": {
          "base_uri": "https://localhost:8080/",
          "height": 35
        }
      },
      "source": [
        "#Define class labels\n",
        "classes = ['person','head','hand','foot']\n",
        "\n",
        "#define lists of columns from train/test csv files\n",
        "train_labels = pd.read_csv(train_labels_path)\n",
        "class_ = train_labels.loc[: , \"class\"]\n",
        "filenames = train_labels.loc[: , \"filename\"]\n",
        "width = train_labels.loc[: , \"width\"]\n",
        "height = train_labels.loc[: , \"height\"]\n",
        "xmin = train_labels.loc[: , \"xmin\"]\n",
        "xmax = train_labels.loc[: , \"xmax\"]\n",
        "ymin = train_labels.loc[: , \"ymin\"]\n",
        "ymax = train_labels.loc[: , \"ymax\"]\n",
        "\n",
        "test_labels = pd.read_csv(test_labels_path)\n",
        "class_test = test_labels.loc[: , \"class\"]\n",
        "filenames_test = test_labels.loc[: , \"filename\"]\n",
        "width_test = test_labels.loc[: , \"width\"]\n",
        "height_test = test_labels.loc[: , \"height\"]\n",
        "xmin_test = test_labels.loc[: , \"xmin\"]\n",
        "xmax_test = test_labels.loc[: , \"xmax\"]\n",
        "ymin_test = test_labels.loc[: , \"ymin\"]\n",
        "ymax_test = test_labels.loc[: , \"ymax\"]\n",
        "\n",
        "print(filenames_test[1])"
      ],
      "execution_count": 0,
      "outputs": [
        {
          "output_type": "stream",
          "text": [
            "C:\\Users\\Alexw\\OneDrive\\Desktop\\uni\\Applied Machine Learning\\Coursework2\\datasets\\images\\test\\2008_000223.jpg\n"
          ],
          "name": "stdout"
        }
      ]
    },
    {
      "cell_type": "code",
      "metadata": {
        "id": "gGl7dNwc6TAP",
        "colab_type": "code",
        "colab": {}
      },
      "source": [
        "#choose dimension for images\n",
        "input_dim = 228"
      ],
      "execution_count": 0,
      "outputs": []
    },
    {
      "cell_type": "code",
      "metadata": {
        "id": "9CwpJDBD6Z4x",
        "colab_type": "code",
        "colab": {}
      },
      "source": [
        "#Function to create label for a given image.\n",
        "# Finds largest bounding box in picture and scales the co-ordinates to the desired image size.\n",
        "# For example, image size (500,500) --> (200,200) , bounding_box (100,200,150,300) --> (40,80,60,120)\n",
        "# outputs co-ords of bounding box (x_0,y_0,x_1,y_1)\n",
        "\n",
        "def create_y_label(filenames, xmin, xmax, ymin, ymax, class_, width, height, image_size, file_name,k):\n",
        "  find_largest_obj = 0\n",
        "  find_largest_obj_list = [[[]]]\n",
        "  index = 0\n",
        "  for i,item in enumerate(filenames):\n",
        "    if file_name == item:\n",
        "      x_0 = (xmin[i] / width[i])\n",
        "      x_1 = (xmax[i] / width[i])\n",
        "      y_0 = (ymin[i] / height[i])\n",
        "      y_1 = (ymax[i] / height[i])\n",
        "      area = (x_1 - x_0)*(y_1 - y_0)\n",
        "      if area > find_largest_obj:\n",
        "        find_largest_obj = area\n",
        "        find_largest_obj_list = [[[x_0,y_0,x_1,y_1]]]\n",
        "        index = i\n",
        "  #for j,cls in enumerate(classes):\n",
        "    #if cls == class_[index]:\n",
        "      #if j != 0:\n",
        "        #find_largest_obj_list[5 + j] = 1\n",
        "  return find_largest_obj_list"
      ],
      "execution_count": 0,
      "outputs": []
    },
    {
      "cell_type": "code",
      "metadata": {
        "id": "HnNnFt866bcS",
        "colab_type": "code",
        "colab": {}
      },
      "source": [
        "# Functions to create Y_train and Y_test by looping create_y_labels for each image in train/test sets\n",
        "\n",
        "def create_y_train(image_size):\n",
        "  Y_train = []\n",
        "  filename_list = []\n",
        "  new_filename_list = []\n",
        "  for item in filenames:\n",
        "    if item not in filename_list:\n",
        "      filename_list.append(item)\n",
        "  counter = 0\n",
        "  for name in filename_list:\n",
        "    for i,item in enumerate(filenames):\n",
        "      if name == item:\n",
        "        if class_[i] == 'person':\n",
        "          counter += 1\n",
        "    if counter == 1:\n",
        "      new_filename_list.append(name)\n",
        "    counter = 0\n",
        "  dont_do = [135,137,148,149,152,153,154,161,162,164,165,173,174,176,180,182,185,186,188,190,193,194,200,207,210,211,212,7,69,81,127,5,12,18,24,26,41,47,51,56,68,77,88,95,96,109,115,118,132,141,175,177,183,204,205]\n",
        "  for k, jpg_image in enumerate(new_filename_list):\n",
        "    dont_do_switch = False\n",
        "    for element in dont_do:\n",
        "      if k == element:\n",
        "        dont_do_switch = True\n",
        "    if dont_do_switch == False:\n",
        "      y_label = create_y_label(filenames, xmin, xmax, ymin, ymax, class_, width, height, image_size, jpg_image,k)\n",
        "      Y_train.append(y_label)\n",
        "  Y_train = np.array(Y_train)\n",
        "  return Y_train\n",
        "\n",
        "def create_y_test(image_size):\n",
        "  Y_test = []\n",
        "  filename_list = []\n",
        "  new_filename_list = []\n",
        "  for item in filenames_test:\n",
        "    if item not in filename_list:\n",
        "      filename_list.append(item)\n",
        "  counter = 0\n",
        "  for name in filename_list:\n",
        "    for i,item in enumerate(filenames_test):\n",
        "      if name == item:\n",
        "        if class_test[i] == 'person':\n",
        "          counter += 1\n",
        "    if counter == 1:\n",
        "      new_filename_list.append(name)\n",
        "    counter = 0\n",
        "  dont_do = [80,82,83,86,100,101,102,104,106,111,112,114,116,118,119,120,127,128,132,137,138,139,140,143,145,146,150,152,159,162,164,2,14,21,22,26,30,47,62,64,66,71,75,76,77,109,110,121,133,154,160] # do not include these images.\n",
        "  for k, jpg_image in enumerate(new_filename_list):\n",
        "    dont_do_switch = False\n",
        "    for element in dont_do:\n",
        "      if k == element:\n",
        "        dont_do_switch = True\n",
        "    if dont_do_switch == False:\n",
        "      y_label = create_y_label(filenames_test, xmin_test, xmax_test, ymin_test, ymax_test, class_test, width_test, height_test, image_size, jpg_image,k)\n",
        "      Y_test.append(y_label)\n",
        "  Y_test = np.array(Y_test)\n",
        "  return Y_test"
      ],
      "execution_count": 0,
      "outputs": []
    },
    {
      "cell_type": "code",
      "metadata": {
        "id": "UWvxz1P96cxv",
        "colab_type": "code",
        "outputId": "4183b129-fe15-4667-c092-2a3253ff4999",
        "colab": {
          "base_uri": "https://localhost:8080/",
          "height": 54
        }
      },
      "source": [
        "#Create Y train/test\n",
        "Y_train = create_y_train(input_dim)\n",
        "Y_test = create_y_test(input_dim)\n",
        "\n",
        "#show shape of output labels\n",
        "print(Y_train.shape)\n",
        "print(Y_test.shape)\n",
        "\n"
      ],
      "execution_count": 0,
      "outputs": [
        {
          "output_type": "stream",
          "text": [
            "(142, 1, 1, 4)\n",
            "(114, 1, 1, 4)\n"
          ],
          "name": "stdout"
        }
      ]
    },
    {
      "cell_type": "code",
      "metadata": {
        "id": "rtRzs2Db6jZv",
        "colab_type": "code",
        "outputId": "72c794bc-b142-4bfd-eebf-a5b1e6156c80",
        "colab": {
          "base_uri": "https://localhost:8080/",
          "height": 54
        }
      },
      "source": [
        "#  Functions to create X_train/test.\n",
        "#   converts images to np array, pads te image to size (500,500) and then scales to desired size\n",
        "def create_x_train(image_size): \n",
        "  X_train = []\n",
        "  filename_list = []\n",
        "  new_filename_list = []\n",
        "  for item in filenames:\n",
        "    if item not in filename_list:\n",
        "      filename_list.append(item)\n",
        "  counter = 0\n",
        "  for name in filename_list:\n",
        "    for i,item in enumerate(filenames):\n",
        "      if name == item:\n",
        "        if class_[i] == 'person':\n",
        "          counter += 1\n",
        "    if counter == 1:\n",
        "      new_filename_list.append(name)\n",
        "    counter = 0\n",
        "  dont_do = [135,137,148,149,152,153,154,161,162,164,165,173,174,176,180,182,185,186,188,190,193,194,200,207,210,211,212,7,69,81,127,5,12,18,24,26,41,47,51,56,68,77,88,95,96,109,115,118,132,141,175,177,183,204,205]\n",
        "  for k, image_name in enumerate(new_filename_list):\n",
        "    dont_do_switch = False\n",
        "    for element in dont_do:\n",
        "      if k == element:\n",
        "        dont_do_switch = True\n",
        "    if dont_do_switch == False:     \n",
        "      image = Image.open('/content/drive/My Drive/datasets/train_set/' + image_name[-15:])\n",
        "      sqrWidth = np.ceil(np.sqrt(input_dim*input_dim)).astype(int)\n",
        "      image = image.resize((sqrWidth, sqrWidth))\n",
        "      image = np.array(image)\n",
        "      X_train.append(image)\n",
        "  X_train = np.array(X_train)\n",
        "  return X_train\n",
        "\n",
        "\n",
        "def create_x_test(image_size): \n",
        "  X_test = []\n",
        "  filename_list = []\n",
        "  new_filename_list = []\n",
        "  for item in filenames_test:\n",
        "    if item not in filename_list:\n",
        "      filename_list.append(item)\n",
        "  counter = 0\n",
        "  for name in filename_list:\n",
        "    for i,item in enumerate(filenames_test):\n",
        "      if name == item:\n",
        "        if class_test[i] == 'person':\n",
        "          counter += 1\n",
        "    if counter == 1:\n",
        "      new_filename_list.append(name)\n",
        "    counter = 0\n",
        "  dont_do = [80,82,83,86,100,101,102,104,106,111,112,114,116,118,119,120,127,128,132,137,138,139,140,143,145,146,150,152,159,162,164,2,14,21,22,26,30,47,62,64,66,71,75,76,77,109,110,121,133,154,160]\n",
        "  for k, image_name in enumerate(new_filename_list):\n",
        "    dont_do_switch = False\n",
        "    for element in dont_do:\n",
        "      if k == element:\n",
        "        dont_do_switch = True\n",
        "    if dont_do_switch == False:           \n",
        "      image = Image.open('/content/drive/My Drive/datasets/val_set/' + image_name[-15:])\n",
        "      sqrWidth = np.ceil(np.sqrt(input_dim*input_dim)).astype(int)\n",
        "      image = image.resize((sqrWidth, sqrWidth))\n",
        "      image = np.array(image)\n",
        "      X_test.append(image)\n",
        "  X_test = np.array(X_test)\n",
        "  return X_test\n",
        "\n",
        "# Create X_train/test\n",
        "X_train = create_x_train(input_dim)\n",
        "X_test = create_x_test(input_dim)\n",
        "\n",
        "#show shape of inputs\n",
        "print(X_train.shape)\n",
        "print(X_test.shape)"
      ],
      "execution_count": 0,
      "outputs": [
        {
          "output_type": "stream",
          "text": [
            "(142, 228, 228, 3)\n",
            "(114, 228, 228, 3)\n"
          ],
          "name": "stdout"
        }
      ]
    },
    {
      "cell_type": "code",
      "metadata": {
        "id": "dsZGU6Gn6kzR",
        "colab_type": "code",
        "outputId": "62a0f143-de95-4f48-9d86-8db63281964e",
        "colab": {
          "base_uri": "https://localhost:8080/",
          "height": 35
        }
      },
      "source": [
        "#convert to float and normalize X_train/test\n",
        "\n",
        "X_train = X_train.astype('float32')\n",
        "X_test = X_test.astype('float32')\n",
        "X_train = X_train / 255.0\n",
        "X_test = X_test / 255.0\n",
        "\n",
        "X_train = np.array(X_train)\n",
        "X_test = np.array(X_test)\n",
        "print('done')"
      ],
      "execution_count": 0,
      "outputs": [
        {
          "output_type": "stream",
          "text": [
            "done\n"
          ],
          "name": "stdout"
        }
      ]
    },
    {
      "cell_type": "code",
      "metadata": {
        "id": "vj3BrZFj6o5c",
        "colab_type": "code",
        "colab": {}
      },
      "source": [
        "input_shape = ( input_dim , input_dim , 3 )\n",
        "dropout_rate = 0.2\n",
        "alpha = 0.2\n",
        "\n",
        "def calculate_iou( target_boxes , pred_boxes ):\n",
        "    xA = K.maximum( target_boxes[ ... , 0], pred_boxes[ ... , 0] )\n",
        "    yA = K.maximum( target_boxes[ ... , 1], pred_boxes[ ... , 1] )\n",
        "    xB = K.minimum( target_boxes[ ... , 2], pred_boxes[ ... , 2] )\n",
        "    yB = K.minimum( target_boxes[ ... , 3], pred_boxes[ ... , 3] )\n",
        "    interArea = K.maximum( 0.0 , xB - xA ) * K.maximum( 0.0 , yB - yA )\n",
        "    boxAArea = (target_boxes[ ... , 2] - target_boxes[ ... , 0]) * (target_boxes[ ... , 3] - target_boxes[ ... , 1])\n",
        "    boxBArea = (pred_boxes[ ... , 2] - pred_boxes[ ... , 0]) * (pred_boxes[ ... , 3] - pred_boxes[ ... , 1])\n",
        "    iou = interArea / ( boxAArea + boxBArea - interArea )\n",
        "    return iou\n",
        "\n",
        "\n",
        "#loss function is a mix of mean squared error and intersection over union.\n",
        "def custom_loss( y_true , y_pred ):\n",
        "    mse = tf.losses.mean_squared_error( y_true , y_pred ) \n",
        "    iou = calculate_iou( y_true , y_pred ) \n",
        "    return mse + ( 1 - iou )\n",
        "\n",
        "#loss function is a mix of root mean squared error and intersection over union.\n",
        "def custom_loss_2( y_true , y_pred ):\n",
        "    rmse = root_mean_squared_error( y_true , y_pred ) \n",
        "    iou = calculate_iou( y_true , y_pred ) \n",
        "    return rmse + ( 1 - iou )\n",
        "\n",
        "def iou_metric( y_true , y_pred ):\n",
        "    return calculate_iou( y_true , y_pred )\n",
        "\n",
        "def root_mean_squared_error(y_true, y_pred):\n",
        "    return K.sqrt(K.mean(K.square(y_pred - y_true)))  "
      ],
      "execution_count": 0,
      "outputs": []
    },
    {
      "cell_type": "code",
      "metadata": {
        "id": "CVIBUJ6I6q9Q",
        "colab_type": "code",
        "outputId": "b12a5bf5-a92b-40a0-9097-f47f2f9c1672",
        "colab": {
          "base_uri": "https://localhost:8080/",
          "height": 1000
        }
      },
      "source": [
        "#keras.layers.Dropout(dropout_rate)\n",
        "model_layers = [       \n",
        "    keras.layers.Conv2D( 256 , input_shape=( input_dim , input_dim , 3 ) , kernel_size=( 3 , 3 ) , strides=2 , activation='relu' ),\n",
        "    keras.layers.Conv2D( 256 , kernel_size=( 3 , 3 ) , strides=2 , activation='relu' ),\n",
        "    #keras.layers.Dropout(dropout_rate),\n",
        "    keras.layers.BatchNormalization(),\n",
        "\n",
        "    keras.layers.Conv2D( 256 , kernel_size=( 3 , 3 ) , strides=1 , activation='relu' ),\n",
        "    keras.layers.Conv2D( 256 , kernel_size=( 3 , 3 ) , strides=1 , activation='relu' ),\n",
        "    keras.layers.BatchNormalization(),\n",
        "\n",
        "    keras.layers.Conv2D( 256 , kernel_size=( 3 , 3 ) , strides=1 , activation='relu' ),\n",
        "    keras.layers.Conv2D( 256 , kernel_size=( 3 , 3 ) , strides=1 , activation='relu' ),\n",
        "    #keras.layers.Dropout(dropout_rate),\n",
        "    keras.layers.BatchNormalization(),\n",
        "\n",
        "    keras.layers.Conv2D( 256 , kernel_size=( 3 , 3 ) , strides=1 , activation='relu' ),\n",
        "    keras.layers.Conv2D( 256 , kernel_size=( 3 , 3 ) , strides=1 , activation='relu' ),\n",
        "    keras.layers.BatchNormalization(),\n",
        "\n",
        "    keras.layers.Conv2D( 128 , kernel_size=( 3 , 3 ) , strides=1 , activation='relu' ),\n",
        "    keras.layers.Conv2D( 128 , kernel_size=( 3 , 3 ) , strides=1 , activation='relu' ),\n",
        "    #keras.layers.Dropout(dropout_rate),\n",
        "    keras.layers.BatchNormalization(),\n",
        "\n",
        "    keras.layers.Conv2D( 128 , kernel_size=( 3 , 3 ) , strides=1 , activation='relu' ),\n",
        "    keras.layers.Conv2D( 128 , kernel_size=( 3 , 3 ) , strides=1 , activation='relu' ),\n",
        "    keras.layers.BatchNormalization(),\n",
        "\n",
        "    keras.layers.Conv2D( 128 , kernel_size=( 3 , 3 ) , strides=1 , activation='relu' ),\n",
        "    keras.layers.Conv2D( 128 , kernel_size=( 3 , 3 ) , strides=1 , activation='relu' ),\n",
        "    #keras.layers.Dropout(dropout_rate),\n",
        "    keras.layers.BatchNormalization(),\n",
        "\n",
        "    keras.layers.Conv2D( 64 , kernel_size=( 3 , 3 ) , strides=1 , activation='relu' ),\n",
        "    keras.layers.Conv2D( 64 , kernel_size=( 3 , 3 ) , strides=1 , activation='relu' ),\n",
        "    keras.layers.BatchNormalization(),\n",
        "\n",
        "    keras.layers.Conv2D( 64 , kernel_size=( 3 , 3 ) , strides=1 , activation='relu' ),\n",
        "    keras.layers.Conv2D( 64 , kernel_size=( 3 , 3 ) , strides=1 , activation='relu' ),\n",
        "    #keras.layers.Dropout(dropout_rate),\n",
        "    keras.layers.BatchNormalization(),\n",
        "\n",
        "    keras.layers.Conv2D( 32 , kernel_size=( 3 , 3 ) , strides=1 , activation='relu' ),\n",
        "    keras.layers.Conv2D( 32 , kernel_size=( 3 , 3 ) , strides=1 , activation='relu' ),\n",
        "    keras.layers.BatchNormalization(),\n",
        "\n",
        "    keras.layers.Conv2D( 32 , kernel_size=( 3 , 3 ) , strides=1 , activation='relu' ),\n",
        "    keras.layers.Conv2D( 32 , kernel_size=( 3 , 3 ) , strides=1 , activation='relu' ),\n",
        "    #keras.layers.Dropout(dropout_rate),\n",
        "    keras.layers.BatchNormalization(),\n",
        "\n",
        "    keras.layers.Conv2D( 32 , kernel_size=( 3 , 3 ) , strides=1 , activation='relu' ),\n",
        "    keras.layers.Conv2D( 32 , kernel_size=( 3 , 3 ) , strides=1 , activation='relu' ),\n",
        "    keras.layers.BatchNormalization(),\n",
        "\n",
        "    keras.layers.Conv2D( 32 , kernel_size=( 3 , 3 ) , strides=1 , activation='relu' ),\n",
        "    keras.layers.Conv2D( 32 , kernel_size=( 3 , 3 ) , strides=1 , activation='relu' ),\n",
        "    #keras.layers.Dropout(dropout_rate),\n",
        "    keras.layers.BatchNormalization(),\n",
        "    \n",
        "    keras.layers.Conv2D( 16 , kernel_size=( 3 , 3 ) , strides=1 , activation='relu' ),\n",
        "    keras.layers.Conv2D( 16 , kernel_size=( 3 , 3 ) , strides=1 , activation='relu' ),\n",
        "\n",
        "    keras.layers.Conv2D( 4 , kernel_size=( 2 , 2 ) , strides=1 , activation='relu' ),\n",
        "    keras.layers.Conv2D( 4 , kernel_size=( 2 , 2 ) , strides=1 , activation='relu' ),\n",
        "    keras.layers.Conv2D( 4 , kernel_size=( 2 , 2 ) , strides=1 , activation='sigmoid' ),\n",
        "]\n",
        "\n",
        "model = keras.Sequential(model_layers)\n",
        "model.compile(optimizer=keras.optimizers.Adam(lr=0.001),loss=custom_loss,metrics=[ iou_metric ]) #specify which loss function you want to use and which optimizer.\n",
        "model.summary()"
      ],
      "execution_count": 0,
      "outputs": [
        {
          "output_type": "stream",
          "text": [
            "Model: \"sequential_13\"\n",
            "_________________________________________________________________\n",
            "Layer (type)                 Output Shape              Param #   \n",
            "=================================================================\n",
            "conv2d_403 (Conv2D)          (None, 113, 113, 256)     7168      \n",
            "_________________________________________________________________\n",
            "conv2d_404 (Conv2D)          (None, 56, 56, 256)       590080    \n",
            "_________________________________________________________________\n",
            "batch_normalization_169 (Bat (None, 56, 56, 256)       1024      \n",
            "_________________________________________________________________\n",
            "conv2d_405 (Conv2D)          (None, 54, 54, 256)       590080    \n",
            "_________________________________________________________________\n",
            "conv2d_406 (Conv2D)          (None, 52, 52, 256)       590080    \n",
            "_________________________________________________________________\n",
            "batch_normalization_170 (Bat (None, 52, 52, 256)       1024      \n",
            "_________________________________________________________________\n",
            "conv2d_407 (Conv2D)          (None, 50, 50, 256)       590080    \n",
            "_________________________________________________________________\n",
            "conv2d_408 (Conv2D)          (None, 48, 48, 256)       590080    \n",
            "_________________________________________________________________\n",
            "batch_normalization_171 (Bat (None, 48, 48, 256)       1024      \n",
            "_________________________________________________________________\n",
            "conv2d_409 (Conv2D)          (None, 46, 46, 256)       590080    \n",
            "_________________________________________________________________\n",
            "conv2d_410 (Conv2D)          (None, 44, 44, 256)       590080    \n",
            "_________________________________________________________________\n",
            "batch_normalization_172 (Bat (None, 44, 44, 256)       1024      \n",
            "_________________________________________________________________\n",
            "conv2d_411 (Conv2D)          (None, 42, 42, 128)       295040    \n",
            "_________________________________________________________________\n",
            "conv2d_412 (Conv2D)          (None, 40, 40, 128)       147584    \n",
            "_________________________________________________________________\n",
            "batch_normalization_173 (Bat (None, 40, 40, 128)       512       \n",
            "_________________________________________________________________\n",
            "conv2d_413 (Conv2D)          (None, 38, 38, 128)       147584    \n",
            "_________________________________________________________________\n",
            "conv2d_414 (Conv2D)          (None, 36, 36, 128)       147584    \n",
            "_________________________________________________________________\n",
            "batch_normalization_174 (Bat (None, 36, 36, 128)       512       \n",
            "_________________________________________________________________\n",
            "conv2d_415 (Conv2D)          (None, 34, 34, 128)       147584    \n",
            "_________________________________________________________________\n",
            "conv2d_416 (Conv2D)          (None, 32, 32, 128)       147584    \n",
            "_________________________________________________________________\n",
            "batch_normalization_175 (Bat (None, 32, 32, 128)       512       \n",
            "_________________________________________________________________\n",
            "conv2d_417 (Conv2D)          (None, 30, 30, 64)        73792     \n",
            "_________________________________________________________________\n",
            "conv2d_418 (Conv2D)          (None, 28, 28, 64)        36928     \n",
            "_________________________________________________________________\n",
            "batch_normalization_176 (Bat (None, 28, 28, 64)        256       \n",
            "_________________________________________________________________\n",
            "conv2d_419 (Conv2D)          (None, 26, 26, 64)        36928     \n",
            "_________________________________________________________________\n",
            "conv2d_420 (Conv2D)          (None, 24, 24, 64)        36928     \n",
            "_________________________________________________________________\n",
            "batch_normalization_177 (Bat (None, 24, 24, 64)        256       \n",
            "_________________________________________________________________\n",
            "conv2d_421 (Conv2D)          (None, 22, 22, 32)        18464     \n",
            "_________________________________________________________________\n",
            "conv2d_422 (Conv2D)          (None, 20, 20, 32)        9248      \n",
            "_________________________________________________________________\n",
            "batch_normalization_178 (Bat (None, 20, 20, 32)        128       \n",
            "_________________________________________________________________\n",
            "conv2d_423 (Conv2D)          (None, 18, 18, 32)        9248      \n",
            "_________________________________________________________________\n",
            "conv2d_424 (Conv2D)          (None, 16, 16, 32)        9248      \n",
            "_________________________________________________________________\n",
            "batch_normalization_179 (Bat (None, 16, 16, 32)        128       \n",
            "_________________________________________________________________\n",
            "conv2d_425 (Conv2D)          (None, 14, 14, 32)        9248      \n",
            "_________________________________________________________________\n",
            "conv2d_426 (Conv2D)          (None, 12, 12, 32)        9248      \n",
            "_________________________________________________________________\n",
            "batch_normalization_180 (Bat (None, 12, 12, 32)        128       \n",
            "_________________________________________________________________\n",
            "conv2d_427 (Conv2D)          (None, 10, 10, 32)        9248      \n",
            "_________________________________________________________________\n",
            "conv2d_428 (Conv2D)          (None, 8, 8, 32)          9248      \n",
            "_________________________________________________________________\n",
            "batch_normalization_181 (Bat (None, 8, 8, 32)          128       \n",
            "_________________________________________________________________\n",
            "conv2d_429 (Conv2D)          (None, 6, 6, 16)          4624      \n",
            "_________________________________________________________________\n",
            "conv2d_430 (Conv2D)          (None, 4, 4, 16)          2320      \n",
            "_________________________________________________________________\n",
            "conv2d_431 (Conv2D)          (None, 3, 3, 4)           260       \n",
            "_________________________________________________________________\n",
            "conv2d_432 (Conv2D)          (None, 2, 2, 4)           68        \n",
            "_________________________________________________________________\n",
            "conv2d_433 (Conv2D)          (None, 1, 1, 4)           68        \n",
            "=================================================================\n",
            "Total params: 5,452,460\n",
            "Trainable params: 5,449,132\n",
            "Non-trainable params: 3,328\n",
            "_________________________________________________________________\n"
          ],
          "name": "stdout"
        }
      ]
    },
    {
      "cell_type": "code",
      "metadata": {
        "id": "IGeColhm8kui",
        "colab_type": "code",
        "colab": {}
      },
      "source": [
        "model.fit( X_train ,Y_train, epochs=80, validation_data=(X_test , Y_test), batch_size=32)"
      ],
      "execution_count": 0,
      "outputs": []
    }
  ]
}