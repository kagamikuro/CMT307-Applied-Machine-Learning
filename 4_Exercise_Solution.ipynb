{
  "nbformat": 4,
  "nbformat_minor": 0,
  "metadata": {
    "colab": {
      "name": "4_Exercise Solution.ipynb",
      "provenance": []
    },
    "kernelspec": {
      "name": "python3",
      "display_name": "Python 3"
    }
  },
  "cells": [
    {
      "cell_type": "markdown",
      "metadata": {
        "id": "agBV4QTgWGBU",
        "colab_type": "text"
      },
      "source": [
        "# 4_Exercise Solution\n",
        "Generate 100 examples using a linear function with 3 features/variables, add a Gaussian noise *N*(0,1) to it. For example, \n",
        "y = 4 + 2*x_1 + 3* x_2 + 4 x_3 + N(0,1). Train a linear model to fit the data."
      ]
    },
    {
      "cell_type": "code",
      "metadata": {
        "id": "s5Jxp776WC69",
        "colab_type": "code",
        "colab": {}
      },
      "source": [
        "import numpy as np\n",
        "import pandas as pd\n",
        "import matplotlib.pyplot as plt\n",
        "\n",
        "X = 5 * np.random.rand(100, 3)          # generate 100 points of 3 dimensional data in the range of [0, 5]\n",
        "w = np.array([[2, 3, 4]])#.reshape(1,3) # actual coefficients of the linear equation that generate the data\n",
        "w.shape\n",
        "y = 4 + w.dot(X.T).T + np.random.randn(100, 1)    # y = 4 + 2*x1 + 3*x2 + 4*x3 plus noise\n",
        "plt.plot(X[:,0], y, '.')                # plot the data with respect to only one dimension x1\n",
        "plt.show()\n",
        "w\n",
        "#y.shape\n"
      ],
      "execution_count": 0,
      "outputs": []
    },
    {
      "cell_type": "code",
      "metadata": {
        "id": "H-IpA4XjYzGU",
        "colab_type": "code",
        "colab": {}
      },
      "source": [
        "X_b = np.c_[np.ones((100, 1)), X]                             # add x0 = 1 to each instance\n",
        "theta_best = np.linalg.inv(X_b.T.dot(X_b)).dot(X_b.T).dot(y)  # use normal equation to find  model parameters\n",
        "\n",
        "#X_b\n",
        "theta_best    # show the learned model parameters"
      ],
      "execution_count": 0,
      "outputs": []
    },
    {
      "cell_type": "markdown",
      "metadata": {
        "id": "MCJGc4-BBfi7",
        "colab_type": "text"
      },
      "source": [
        "make predictions using theta"
      ]
    },
    {
      "cell_type": "code",
      "metadata": {
        "id": "DS-9cfIjBjo4",
        "colab_type": "code",
        "colab": {}
      },
      "source": [
        "X_new = np.array([[0, 0, 0], [5, 5, 5]])  # two data points\n",
        "X_new_b = np.c_[np.ones((2, 1)), X_new]   # add x0 = 1 to each instance\n",
        "y_predict = X_new_b.dot(theta_best)       # predict using y = Xw\n",
        "y_predict"
      ],
      "execution_count": 0,
      "outputs": []
    },
    {
      "cell_type": "code",
      "metadata": {
        "id": "MzdKcYnyF0yo",
        "colab_type": "code",
        "colab": {}
      },
      "source": [
        "plt.plot(X[:,0], y, \"b.\")\n",
        "plt.plot(X_new[:, 0], y_predict, \"r-\")    # plot the learned model (red line)\n",
        "\n",
        "plt.axis([0, 5, 0, 50])\n",
        "plt.show()"
      ],
      "execution_count": 0,
      "outputs": []
    },
    {
      "cell_type": "markdown",
      "metadata": {
        "id": "TiMHpUldDcQK",
        "colab_type": "text"
      },
      "source": [
        "Using LinearRegression of sklearn, you can see the its model parameters and prediction are close to those from the normal equation above."
      ]
    },
    {
      "cell_type": "code",
      "metadata": {
        "id": "zB8NMbZWDeyK",
        "colab_type": "code",
        "colab": {}
      },
      "source": [
        "from sklearn.linear_model import LinearRegression\n",
        "lin_reg = LinearRegression()\n",
        "lin_reg.fit(X, y)\n",
        "lin_reg.intercept_, lin_reg.coef_"
      ],
      "execution_count": 0,
      "outputs": []
    },
    {
      "cell_type": "code",
      "metadata": {
        "id": "wQ5K27pUGSuh",
        "colab_type": "code",
        "colab": {}
      },
      "source": [
        "lin_reg.predict(X_new)"
      ],
      "execution_count": 0,
      "outputs": []
    }
  ]
}