{
 "cells": [
  {
   "cell_type": "markdown",
   "metadata": {
    "colab_type": "text",
    "id": "4vPPsSia1Qpp"
   },
   "source": [
    "**Exercise 1:**"
   ]
  },
  {
   "cell_type": "code",
   "execution_count": 0,
   "metadata": {
    "colab": {},
    "colab_type": "code",
    "id": "cOCEsdTf1YtP"
   },
   "outputs": [],
   "source": [
    "def get_vector_text(list_vocab,string):\n",
    "  vector_text=np.zeros(len(list_vocab))\n",
    "  list_tokens_string=get_list_tokens(string)\n",
    "  for i, word in enumerate(list_vocab):\n",
    "    if word in list_tokens_string:\n",
    "      vector_text[i]=list_tokens_string.count(word)\n",
    "  return vector_text\n",
    "      \n",
    "  \n",
    "list_vocab=['cat','dog', 'machine', 'field']\n",
    "text=\"Machine learning is a field where we study how machines learn.\"\n",
    "print (get_vector_text(list_vocab,text))"
   ]
  },
  {
   "cell_type": "markdown",
   "metadata": {
    "colab_type": "text",
    "id": "kPDTOlVp1a3o"
   },
   "source": [
    "**Exercise 2:**"
   ]
  },
  {
   "cell_type": "code",
   "execution_count": 0,
   "metadata": {
    "colab": {},
    "colab_type": "code",
    "id": "0EDb9dm21dfA"
   },
   "outputs": [],
   "source": [
    "list_vocab=['cat','dog', 'machine', 'field']\n",
    "\n",
    "string_a=\"Machine learning is a field where we study how machines learn.\"\n",
    "string_b=\"The machine is not working.\"\n",
    "vector_a=get_vector_text(list_vocab,string_a)\n",
    "vector_b=get_vector_text(list_vocab,string_b)\n",
    "print (cos_sim(vector_a,vector_b))\n",
    "\n",
    "string_a=\"My favorite animals are dogs and cats\"\n",
    "string_b=\"The machine is not working.\"\n",
    "vector_a=get_vector_text(list_vocab,string_a)\n",
    "vector_b=get_vector_text(list_vocab,string_b)\n",
    "print (cos_sim(vector_a,vector_b))\n",
    "\n",
    "string_a=\"My favorite animals are dogs and cats\"\n",
    "string_b=\"What can we do with the cat and the dog? The cat is always fighting with the dog.\"\n",
    "vector_a=get_vector_text(list_vocab,string_a)\n",
    "vector_b=get_vector_text(list_vocab,string_b)\n",
    "print (cos_sim(vector_a,vector_b))\n"
   ]
  }
 ],
 "metadata": {
  "colab": {
   "name": "1.Introduction_DataPreprocessing_Solutions.ipynb",
   "provenance": []
  },
  "kernelspec": {
   "display_name": "Python 3",
   "language": "python",
   "name": "python3"
  },
  "language_info": {
   "codemirror_mode": {
    "name": "ipython",
    "version": 3
   },
   "file_extension": ".py",
   "mimetype": "text/x-python",
   "name": "python",
   "nbconvert_exporter": "python",
   "pygments_lexer": "ipython3",
   "version": "3.7.1"
  }
 },
 "nbformat": 4,
 "nbformat_minor": 1
}
