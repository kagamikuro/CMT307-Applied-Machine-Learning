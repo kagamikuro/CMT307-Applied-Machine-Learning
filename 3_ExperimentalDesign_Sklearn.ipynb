{
 "cells": [
  {
   "cell_type": "markdown",
   "metadata": {
    "colab_type": "text",
    "id": "PG7F15TeVuxb"
   },
   "source": [
    "This Jupyter notebook includes exercises for understanding experimental design in Machine Learning. In this notebook we will introduce common evaluation measures in supervised machine learning. You will also be able to split your dataset in train, development and test, and also understand how cross-validation works. \n",
    "\n",
    "\n"
   ]
  },
  {
   "cell_type": "markdown",
   "metadata": {
    "colab_type": "text",
    "id": "oXTVxIXysM9O"
   },
   "source": [
    "## EXPERIMENTAL DESIGN\n",
    "\n",
    "---\n",
    "\n",
    "First, we import the libraries that we are going to use, including as usual numpy (vector manipulation), nltk (text preprocessing) and scikit-learn (machine learning).\n",
    "\n",
    "**Note:** All these libraries need to be downloaded beforehand if not using Google Colab. Check their official websites for details on how to install them."
   ]
  },
  {
   "cell_type": "code",
   "execution_count": 1,
   "metadata": {
    "colab": {},
    "colab_type": "code",
    "id": "-Nv6UldrVuXv"
   },
   "outputs": [
    {
     "name": "stderr",
     "output_type": "stream",
     "text": [
      "[nltk_data] Downloading package stopwords to\n",
      "[nltk_data]     C:\\Users\\tianbai\\AppData\\Roaming\\nltk_data...\n",
      "[nltk_data]   Package stopwords is already up-to-date!\n",
      "[nltk_data] Downloading package punkt to\n",
      "[nltk_data]     C:\\Users\\tianbai\\AppData\\Roaming\\nltk_data...\n",
      "[nltk_data]   Package punkt is already up-to-date!\n",
      "[nltk_data] Downloading package wordnet to\n",
      "[nltk_data]     C:\\Users\\tianbai\\AppData\\Roaming\\nltk_data...\n",
      "[nltk_data]   Package wordnet is already up-to-date!\n"
     ]
    },
    {
     "data": {
      "text/plain": [
       "True"
      ]
     },
     "execution_count": 1,
     "metadata": {},
     "output_type": "execute_result"
    }
   ],
   "source": [
    "import numpy as np\n",
    "import nltk\n",
    "import sklearn\n",
    "import operator\n",
    "import requests\n",
    "nltk.download('stopwords') # If needed\n",
    "nltk.download('punkt') # If needed\n",
    "nltk.download('wordnet') # If needed"
   ]
  },
  {
   "cell_type": "markdown",
   "metadata": {
    "colab_type": "text",
    "id": "QLX-9_KS2Xer"
   },
   "source": [
    "## A) TRAIN, DEVELOPMENT AND TEST SPLITS\n",
    "\n",
    "To start with, we are going to work with the same sentiment analysis dataset used in the previous session, i.e., RT-polarity. First, as usual, we need to load the dataset in Python. We are going to load it directly from the internet, but remember from the previous session that you can also load your dataset locally if you wish:\n",
    "\n",
    "\n",
    "\n",
    "\n"
   ]
  },
  {
   "cell_type": "code",
   "execution_count": 2,
   "metadata": {
    "colab": {},
    "colab_type": "code",
    "id": "vR3p8oif2EC6"
   },
   "outputs": [],
   "source": [
    "url_pos=\"http://josecamachocollados.com/rt-polarity.pos.txt\" # Containing all positive reviews, one review per line\n",
    "url_neg=\"http://josecamachocollados.com/rt-polarity.neg.txt\" # Containing all negative reviews, one review per line\n",
    "\n",
    "#Load positive reviews\n",
    "response_pos = requests.get(url_pos)\n",
    "dataset_file_pos = response_pos.text.split(\"\\n\")\n",
    "\n",
    "#Load negative reviews\n",
    "response_neg = requests.get(url_neg)\n",
    "dataset_file_neg = response_neg.text.split(\"\\n\")"
   ]
  },
  {
   "cell_type": "markdown",
   "metadata": {
    "colab_type": "text",
    "id": "IGhLHgI4gCPW"
   },
   "source": [
    "Now we are going to split the dataset into training and test splits. First, we need to put together positive and negative reviews into a single list. "
   ]
  },
  {
   "cell_type": "code",
   "execution_count": 3,
   "metadata": {
    "colab": {},
    "colab_type": "code",
    "id": "Uq35io6Dj7cG"
   },
   "outputs": [],
   "source": [
    "dataset_full=[]\n",
    "for pos_review in dataset_file_pos:\n",
    "  dataset_full.append((pos_review,1))\n",
    "for neg_review in dataset_file_neg:\n",
    "  dataset_full.append((neg_review,0))"
   ]
  },
  {
   "cell_type": "markdown",
   "metadata": {
    "colab_type": "text",
    "id": "sEtWB_f3kRZ7"
   },
   "source": [
    "**Note:** Remember that positive reviews are going to be labelled as \"0\" and negative reviews as \"1\". To store reviews with their corresponding labels, we have used tuples of the form `(review,label)`."
   ]
  },
  {
   "cell_type": "markdown",
   "metadata": {
    "colab_type": "text",
    "id": "VA55oh0Ykc81"
   },
   "source": [
    "With the full dataset stored in a single list, we are going to split our dataset into training and test, by following a standard 80%/20% distribution. We are going to randomly extract examples from the original dataset, 80% for the training set, and 20% for the test set."
   ]
  },
  {
   "cell_type": "code",
   "execution_count": 4,
   "metadata": {
    "colab": {},
    "colab_type": "code",
    "id": "9jdN4LaXhm_O"
   },
   "outputs": [],
   "source": [
    "from sklearn.model_selection import train_test_split\n",
    "import random"
   ]
  },
  {
   "cell_type": "code",
   "execution_count": 9,
   "metadata": {
    "colab": {},
    "colab_type": "code",
    "id": "QBlU4Zyehoif"
   },
   "outputs": [
    {
     "name": "stdout",
     "output_type": "stream",
     "text": [
      "<class 'list'>\n",
      "[1724, 5623, 9346, 5248, 955, 8003, 9725, 2467, 9460, 1433, 1969, 902, 372, 9046, 3033, 9330, 5858, 2536, 9748, 7059, 9358, 1213, 3076, 1770, 2785, 119, 17, 3800, 3571, 9052, 6867, 4184, 6292, 577, 2258, 3762, 816, 5235, 4251, 3555, 4989, 3468, 7368, 4734, 9712, 6194, 3881, 7907, 3342, 1201, 9140, 6448, 9127, 5482, 2032, 9025, 6204, 1018, 99, 1151, 8858, 2464, 2814, 1582, 3274, 772, 3286, 3462, 6147, 1093, 5653, 8754, 692, 6662, 9572, 127, 2544, 10188, 8968, 5848, 10329, 6135, 6672, 10257, 7623, 4449, 7766, 9655, 9119, 732, 3860, 5018, 4284, 6636, 762, 1662, 7193, 4747, 1867, 5359, 10355, 58, 9187, 7005, 4884, 4667, 8812, 4002, 842, 4280, 8732, 1566, 3533, 7541, 3158, 303, 9301, 5982, 3758, 2783, 9146, 5285, 7824, 7021, 1015, 2028, 4749, 3594, 1509, 8190, 1733, 3190, 5729, 7389, 2969, 6105, 8480, 3099, 2863, 537, 9519, 1583, 8788, 765, 9364, 2369, 3480, 9429, 606, 6842, 5028, 4368, 3937, 8473, 2661, 4863, 9362, 3586, 515, 3742, 8260, 3110, 4497, 9804, 1896, 5894, 2979, 2713, 10429, 2260, 1626, 6767, 5292, 2477, 4109, 681, 5217, 5507, 2280, 1160, 8428, 10532, 1467, 9727, 378, 10248, 8566, 1191, 1422, 8140, 6721, 10276, 6544, 1849, 10625, 734, 7739, 3957, 4062, 9795, 1019, 7615, 564, 9921, 4611, 3697, 4337, 9636, 3363, 158, 4483, 2627, 647, 225, 4318, 6172, 6831, 1966, 7019, 3127, 5014, 5302, 2454, 1116, 2283, 10618, 4695, 4587, 2880, 5037, 5322, 1808, 6624, 517, 5201, 5435, 4601, 7103, 172, 8001, 1610, 6077, 8457, 2267, 6685, 8477, 1135, 10533, 4397, 8173, 3773, 8878, 4612, 4189, 3948, 5246, 5690, 788, 3304, 2660, 9635, 2397, 4925, 4299, 465, 6484, 1403, 10406, 10338, 2163, 2980, 8131, 6087, 4140, 3023, 3617, 7010, 937, 10523, 5536, 8552, 4080, 2982, 2799, 9822, 5553, 2158, 8424, 2734, 7839, 8561, 2257, 5206, 6264, 5467, 8132, 8944, 8722, 7247, 8656, 993, 1735, 8997, 5664, 1858, 5938, 4494, 2563, 3390, 7309, 7436, 4598, 6375, 8035, 6165, 3081, 7941, 6728, 5902, 5511, 7092, 2211, 9660, 5360, 4321, 7359, 4347, 934, 1850, 3844, 2955, 2625, 10419, 284, 8962, 229, 8800, 2537, 1560, 8564, 6311, 8865, 4638, 9633, 5960, 2668, 6758, 2453, 1283, 4942, 10440, 1070, 9531, 6403, 8262, 7285, 6724, 5020, 5236, 3884, 9678, 771, 8004, 9449, 4878, 9790, 5027, 6947, 4285, 7244, 2620, 2120, 8696, 404, 2538, 6256, 10036, 8803, 5093, 9328, 8700, 565, 4405, 7128, 8549, 9070, 3831, 7063, 314, 9028, 3055, 2939, 9820, 2991, 2210, 1256, 4995, 2948, 3876, 724, 7565, 2615, 8737, 6179, 7627, 1139, 9927, 7826, 9033, 9857, 9420, 2861, 4294, 5052, 2353, 7641, 5794, 5549, 1259, 6040, 2380, 2990, 10526, 1425, 6745, 6242, 2673, 10422, 4727, 2438, 6139, 6994, 695, 8396, 8049, 4356, 447, 3285, 5287, 4180, 1612, 2832, 5160, 9022, 4664, 9882, 3552, 366, 4010, 9577, 8447, 3907, 4354, 2465, 4682, 10571, 8729, 1683, 5785, 8045, 8821, 4853, 8007, 10113, 394, 682, 408, 633, 5036, 2987, 1711, 354, 4421, 7655, 4273, 8071, 6314, 7854, 4786, 9982, 5006, 6387, 3804, 6754, 2396, 5040, 5336, 4931, 6526, 1686, 2572, 9238, 9565, 739, 8318, 2250, 5059, 8970, 3078, 5314, 5464, 10554, 8448, 1289, 139, 2502, 3314, 8306, 7986, 8850, 5713, 7149, 6108, 7852, 7800, 5637, 7160, 6057, 4637, 8511, 10182, 2582, 1956, 4160, 3364, 7921, 10149, 7775, 10319, 7960, 6171, 6122, 2220, 7930, 3973, 142, 7851, 8808, 8453, 3999, 1121, 3985, 2284, 5685, 5462, 10219, 776, 9210, 7183, 1606, 3752, 4568, 2780, 7947, 4514, 1972, 7861, 9467, 5522, 5568, 728, 5948, 2872, 9428, 3543, 4639, 7931, 7487, 5718, 10318, 5238, 1865, 4472, 6497, 8264, 714, 2031, 5438, 1750, 2900, 1989, 6613, 3476, 6853, 7249, 3348, 727, 7676, 2624, 6777, 5912, 8781, 6983, 10567, 1264, 10117, 6555, 3764, 5812, 10013, 9739, 8067, 6906, 7827, 8191, 7899, 9446, 7688, 3825, 2429, 4527, 5563, 9741, 1881, 3182, 8298, 2426, 6764, 6998, 5325, 324, 1738, 3526, 4964, 9170, 5273, 9502, 4571, 4976, 1263, 2637, 6280, 5347, 5636, 7442, 9729, 2105, 978, 8683, 5621, 8437, 2487, 1786, 9206, 7486, 4603, 6997, 8074, 3169, 3677, 5250, 712, 9192, 9512, 6049, 6510, 6891, 8014, 2043, 5155, 1331, 7161, 10644, 4926, 9139, 1531, 5187, 1448, 5317, 5492, 1110, 10443, 10067, 8110, 2757, 4455, 9062, 8725, 9897, 4899, 7419, 3910, 4221, 5418, 7305, 3943, 5200, 3056, 8484, 8793, 4914, 6661, 9417, 2079, 8746, 5663, 1630, 5488, 6782, 1013, 8877, 3767, 4833, 10630, 8353, 3159, 3471, 6650, 1860, 8617, 7936, 4978, 10129, 3200, 8930, 6778, 2932, 1228, 740, 5832, 2039, 4004, 28, 8706, 6791, 10206, 6987, 4193, 5226, 2083, 2099, 9649, 7364, 4305, 2507, 3308, 430, 7234, 6506, 9537, 8407, 5601, 4399, 10049, 5978, 8673, 8935, 10259, 4220, 6820, 6616, 8046, 1221, 8400, 4032, 9194, 6553, 966, 7344, 7629, 1035, 1828, 6052, 10367, 2841, 1023, 1111, 5612, 2051, 3271, 7398, 6643, 194, 8026, 6419, 2360, 1380, 6440, 10378, 6452, 2038, 5865, 2646, 425, 8562, 6564, 442, 7273, 2554, 8090, 3440, 4632, 2760, 759, 9521, 2333, 9239, 632, 4215, 5118, 4493, 6050, 6519, 8827, 335, 9749, 1149, 8291, 8996, 1361, 8300, 7680, 1450, 1809, 7596, 4398, 453, 4084, 6496, 317, 11, 5977, 9405, 5862, 3763, 4111, 807, 7159, 5561, 8172, 8785, 9618, 249, 3947, 6168, 6874, 5840, 9458, 8053, 7853, 2652, 1907, 2408, 5252, 6273, 646, 3104, 2675, 1115, 1083, 611, 6559, 7377, 569, 845, 8215, 5372, 6415, 5066, 1118, 8481, 6438, 7855, 8244, 3311, 8403, 3680, 7350, 8909, 8522, 2499, 5365, 5157, 8631, 4344, 6283, 2777, 3529, 336, 4266, 2241, 1476, 9811, 9251, 1597, 942, 6921, 9267, 4233, 2425, 6345, 4098, 10043, 8849, 10275, 2132, 5995, 7163, 2208, 4145, 9505, 8542, 4488, 7630, 6474, 8777, 1398, 8451, 9853, 3137, 4750, 1545, 8605, 1508, 2148, 7810, 8724, 4208, 7444, 2202, 4822, 3145, 3225, 6525, 1001, 3164, 2331, 9632, 7538, 3073, 88, 2773, 2405, 1179, 5805, 530, 1624, 9617, 3618, 1286, 2666, 2775, 305, 7100, 4538, 3807, 8776, 10058, 1862, 6078, 5737, 3942, 3678, 8503, 8540, 3176, 2527, 6981, 7166, 5716, 8305, 2735, 7790, 3280, 2699, 9286, 4775, 9747, 5599, 522, 2927, 3186, 10449, 5074, 5305, 9700, 1780, 1039, 2064, 1284, 471, 8022, 5357, 3065, 1075, 4162, 2571, 1549, 8531, 6267, 5032, 2726, 8466, 8470, 7065, 7101, 3976, 5975, 5917, 5111, 5505, 2227, 909, 5630, 10258, 9757, 6251, 237, 1905, 7570, 2596, 8667, 7504, 8394, 1047, 3312, 2946, 10296, 10145, 5936, 921, 1348, 8086, 6286, 4879, 5534, 4846, 4706, 2581, 8065, 1974, 5309, 5012, 9990, 470, 2466, 3089, 8378, 9444, 8401, 9012, 5821, 5328, 5967, 4136, 4810, 1302, 9193, 2441, 5566, 2552, 6965, 3122, 10477, 2966, 5364, 8966, 6586, 8771, 10323, 282, 5428, 7656, 8304, 9863, 6489, 7728, 1947, 8103, 767, 3563, 6952, 590, 5841, 10361, 2913, 5223, 7999, 1479, 8784, 7058, 4186, 5726, 1175, 10579, 2078, 19, 5991, 9968, 8597, 7634, 4894, 7788, 2977, 5177, 6002, 9282, 7437, 2150, 8405, 5343, 3517, 3737, 5478, 837, 3652, 6539, 6945, 4898, 4490, 6072, 7031, 8714, 2590, 3662, 3381, 1814, 516, 6582, 1185, 6041, 9265, 8753, 5475, 9422, 6917, 10394, 843, 8360, 1642, 7435, 10288, 4579, 10322, 10096, 8161, 10095, 4332, 2252, 3346, 1202, 10546, 4279, 7670, 3913, 6485, 1182, 3856, 5584, 3230, 6220, 327, 8331, 9909, 1587, 3707, 6944, 10506, 7455, 8234, 8797, 1315, 7992, 2767, 3461, 9673, 7370, 1929, 6558, 10305, 9037, 10310, 4383, 6905, 4602, 6732, 3175, 2885, 5199, 9464, 4640, 8114, 4578, 1174, 1097, 8076, 6896, 210, 7410, 6592, 7125, 9846, 4722, 373, 9783, 5342, 1885, 4055, 5670, 1178, 2135, 3719, 8184, 10481, 1824, 573, 8839, 9383, 7949, 10180, 1688, 8214, 4268, 4908, 4225, 877, 635, 8974, 1569, 4040, 10082, 9570, 2893, 5094, 5963, 2622, 9585, 5132, 9334, 7928, 8446, 631, 6966, 910, 982, 6372, 8385, 4678, 9687, 3283, 7977, 2320, 1943, 2486, 3721, 9497, 1347, 5051, 10241, 1219, 4540, 5940, 675, 2434, 143, 2114, 948, 6271, 4217, 1235, 6192, 9043, 2127, 3, 8802, 6058, 9560, 116, 9341, 7426, 10601, 7563, 9112, 8493, 8247, 2095, 4608, 8813, 1994, 7360, 1987, 5989, 1697, 10498, 1783, 4064, 3322, 8518, 6988, 7740, 2764, 5717, 3538, 5454, 2975, 5493, 3436, 7593, 2936, 6674, 357, 6967, 1257, 1634, 8073, 7467, 6279, 9337, 8253, 6888, 6099, 1024, 5802, 1198, 4131, 4871, 6879, 1794, 9697, 4392, 39, 9064, 10211, 6727, 715, 2988, 4367, 5983, 7320, 7780, 9001, 9421, 389, 1322, 5946, 6660, 7139, 7379, 6551, 7594, 5684, 6328, 8659, 4222, 6699, 8411, 4448, 833, 5720, 10534, 1050, 8600, 2399, 9255, 5307, 3802, 7727, 555, 10464, 6155, 9092, 10085, 10480, 9567, 4322, 10331, 3500, 7314, 8280, 4059, 5904, 5592, 5265, 9204, 9650, 1382, 8723, 539, 2815, 1496, 1825, 2026, 671, 6995, 3310, 8340, 1424, 615, 2711, 1982, 9545, 4036, 1756, 334, 9624, 7335, 3491, 6223, 10457, 5884, 1650, 5873, 1986, 10632, 2825, 3845, 10411, 5286, 6667, 8043, 10484, 38, 7701, 9658, 617, 269, 4130, 8584, 10183, 5341, 196, 960, 4707, 6939, 9434, 9482, 6779, 6416, 9691, 8413, 2347, 9802, 10535, 8739, 5131, 7131, 10273, 6042, 2415, 9135, 861, 4718, 4089, 8619, 9714, 9332, 7722, 6211, 337, 2442, 1554, 5843, 1059, 5441, 4614, 5135, 8674, 2259, 6579, 7297, 5920, 8857, 1970, 4090, 7174, 5954, 7274, 2609, 5830, 455, 3244, 10252, 7532, 519, 6433, 2019, 3287, 9268, 576, 8960, 6549, 6309, 2938, 4031, 7874, 2485, 3567, 2006, 7061, 6534, 2271, 3632, 8513, 7456, 1297, 10239, 835, 4270, 2419, 9665, 10616, 9471, 7581, 10471, 5277, 504, 9784, 987, 5064, 4740, 8782, 3983, 2307, 4445, 407, 4141, 3852, 1866, 4011, 10487, 7341, 6332, 2786, 868, 1625, 9005, 8138, 4515, 4742, 7170, 9586, 4630, 10098, 7517, 5010, 10196, 4918, 1510, 7393, 8685, 8716, 7082, 1351, 3683, 844, 10499, 8290, 801, 6268, 5379, 7298, 4526, 8728, 4334, 1057, 1841, 6400, 3987, 7208, 3447, 6324, 1631, 3465, 3904, 2251, 3954, 4168, 10295, 8317, 4192, 6780, 8364, 5001, 1485, 4599, 2151, 4865, 9918, 3062, 3128, 8230, 5284, 9063, 3508, 1446, 5433, 8750, 9105, 1853, 584, 9157, 9873, 3034, 8761, 3667, 4027, 7319, 9603, 3192, 18, 8422, 2422, 4152, 2272, 3392, 3106, 5815, 8924, 2794, 6441, 3270, 3970, 10300, 7816, 570, 9814, 5863, 1833, 8789, 870, 2667, 7711, 9978, 8039, 6111, 8715, 6184, 6902, 9690, 10029, 8688, 7606, 990, 5421, 6200, 5129, 812, 7282, 3689, 2670, 621, 10648, 6940, 6450, 9431, 120, 10434, 792, 7296, 3886, 8082, 1077, 7881, 726, 1355, 3449, 6768, 1964, 2481, 2746, 3974, 688, 7751, 4660, 1520, 8270, 9244, 9321, 2037, 370, 6225, 7582, 7349, 7887, 1427, 10488, 175, 9472, 1679, 7425, 9892, 9946, 2752, 8925, 3235, 3265, 1337, 16, 9465, 6751, 2377, 9754, 5499, 2379, 8945, 10478, 5355, 7612, 1968, 5346, 10127, 3565, 1813, 2133, 8835, 6769, 338, 7909, 6889, 4887, 6881, 2170, 4737, 943, 1665, 8251, 7535, 5950, 7469, 3414, 2411, 2830, 7626, 3894, 4430, 9666, 10167, 5667, 5740, 5142, 8622, 6357, 5635, 8347, 8517, 9061, 6871, 2388, 9664, 344, 784, 501, 1892, 7075, 6756, 5459, 848, 9250, 3016, 3572, 1499, 887, 7429, 2048, 3906, 5658, 608, 5412, 7985, 4901, 9300, 4844, 9597, 7577, 1653, 5121, 627, 8515, 7914, 9559, 7521, 5076, 9393, 8235, 1144, 4732, 8774, 2336, 5837, 5496, 1522, 1292, 8657, 6270, 8308, 3979, 7421, 9317, 10035, 7505, 3204, 7652, 906, 1273, 1223, 8985, 6934, 1148, 4537, 8336, 5068, 4238, 3536, 4295, 5748, 7407, 9880, 6687, 2911, 248, 7124, 4437, 3587, 9830, 5704, 6390, 1714, 5283, 2154, 7494, 4370, 5606, 2518, 10501, 10229, 9930, 3297, 959, 920, 6227, 4651, 189, 3298, 6199, 4609, 3288, 6596, 7333, 6649, 4226, 7187, 4665, 865, 6771, 2856, 395, 9310, 4153, 6029, 8860, 243, 467, 8486, 4825, 2337, 4003, 2566, 8030, 10347, 1095, 8640, 2805, 8386, 311, 7374, 583, 1469, 1776, 10283, 7279, 7898, 9360, 2149, 4067, 7583, 4091, 9354, 8257, 8150, 4207, 2115, 7186, 3038, 9473, 6368, 8636, 2011, 1955, 531, 5787, 3371, 3864, 7381, 8953, 5733, 9581, 491, 1463, 8593, 8, 4232, 9818, 3604, 2973, 2692, 7383, 3357, 8492, 443, 1570, 10445, 6611, 10646, 10522, 1909, 3336, 4783, 7194, 6295, 2061, 7154, 367, 390, 9962, 2264, 5397, 1067, 2050, 660, 7342, 3748, 1622, 446, 3282, 7184, 1470, 8254, 3888, 10362, 5746, 6285, 7348, 5859, 603, 6958, 5005, 3507, 5572, 7332, 7072, 2275, 3959, 9048, 1353, 7974, 7324, 2340, 3813, 5484, 9717, 9218, 8570, 6202, 136, 255, 1521, 2754, 5971, 167, 2920, 1493, 4857, 551, 3445, 1089, 10594, 6418, 9639, 2118, 454, 5087, 4276, 4476, 636, 684, 10038, 918, 111, 5872, 4741, 1344, 5973, 8532, 7195, 534, 8855, 9106, 5183, 10542, 5907, 6742, 2447, 981, 3484, 10027, 4912, 2639, 2906, 6563, 6953, 6694, 1889, 10583, 6530, 2921, 1211, 3556, 2942, 5919, 8794, 2684, 5987, 3041, 2444, 2225, 384, 2498, 1534, 5968, 8823, 8826, 4621, 5168, 10155, 6470, 4941, 9835, 4954, 9148, 10312, 4580, 7182, 9997, 10075, 6691, 5699, 7321, 1546, 7164, 1921, 177, 3194, 6229, 97, 7901, 3494, 3795, 9410, 2404, 3544, 1343, 5264, 8951, 2439, 7317, 8302, 10606, 9058, 4787, 4077, 5338, 2046, 9143, 9291, 2878, 10052, 6159, 5184, 713, 6169, 3412, 7922, 8357, 7694, 7199, 3612, 2263, 9788, 6409, 8084, 8757, 358, 1627, 6772, 9087, 6816, 2728, 2024, 8351, 3548, 6377, 1778, 4650, 8307, 1588, 3353, 8509, 1527, 10063, 4807, 6637, 10436, 9937, 4442, 8072, 10235, 9903, 2541, 10114, 3714, 6736, 4418, 9413, 421, 4790, 6175, 7973, 4620, 2758, 10505, 10592, 5148, 8805]\n"
     ]
    }
   ],
   "source": [
    "size_dataset_full=len(dataset_full)\n",
    "size_test=int(round(size_dataset_full*0.2,0))\n",
    "\n",
    "list_test_indices=random.sample(range(size_dataset_full), size_test)\n",
    "\n",
    "print(type(list_test_indices))\n",
    "print(list_test_indices)\n",
    "train_set=[]\n",
    "test_set=[]\n",
    "for i,example in enumerate(dataset_full):\n",
    "  if i in list_test_indices: test_set.append(example)\n",
    "  else: train_set.append(example)"
   ]
  },
  {
   "cell_type": "markdown",
   "metadata": {
    "colab_type": "text",
    "id": "RAke3d5QIAJS"
   },
   "source": [
    "**Excercise (Optional):**\n",
    "Use the function [train_test_split](https://scikit-learn.org/stable/modules/generated/sklearn.model_selection.train_test_split.html) from sklearn to split  the original RT-polarity dataset into training and test. More information in this [blog post](https://medium.com/@contactsunny/how-to-split-your-dataset-to-train-and-test-datasets-using-scikit-learn-e7cf6eb5e0d).\n"
   ]
  },
  {
   "cell_type": "markdown",
   "metadata": {
    "colab_type": "text",
    "id": "FzK6cEyej3LV"
   },
   "source": [
    "To double-check that we have split the dataset as we planned to, let's check the final sizes. We are going to also shuffle the examples in each of the splits (using the function `random.shuffle`), as it is recommended in many cases."
   ]
  },
  {
   "cell_type": "code",
   "execution_count": 6,
   "metadata": {
    "colab": {},
    "colab_type": "code",
    "id": "1JvrD8ACpAbM"
   },
   "outputs": [],
   "source": [
    "random.shuffle(train_set)\n",
    "random.shuffle(test_set)"
   ]
  },
  {
   "cell_type": "code",
   "execution_count": 7,
   "metadata": {
    "colab": {},
    "colab_type": "code",
    "id": "mnQVSx8GmSk3"
   },
   "outputs": [
    {
     "name": "stdout",
     "output_type": "stream",
     "text": [
      "Size dataset full: 10664\n",
      "Size training set: 8531\n",
      "Size test set: 2133\n"
     ]
    }
   ],
   "source": [
    "print (\"Size dataset full: \"+str(size_dataset_full))\n",
    "print (\"Size training set: \"+str(len(train_set)))\n",
    "print (\"Size test set: \"+str(len(test_set)))"
   ]
  },
  {
   "cell_type": "markdown",
   "metadata": {
    "colab_type": "text",
    "id": "5IvHkQJ3rbgV"
   },
   "source": [
    "**Excercise 1:** Given a dataset represented as list with instances (as e.g. our `dataset_full` in the RT-polarity dataset) and the size of the test set (e.g. `0.2`) as input, create a function that split the given dataset in training and test sets of the given size. Check your function with our RT-polarity dataset (i.e. `dataset_full`) and `0.2` as inputs."
   ]
  },
  {
   "cell_type": "code",
   "execution_count": 0,
   "metadata": {
    "colab": {},
    "colab_type": "code",
    "id": "1pFPy0y5rq-h"
   },
   "outputs": [],
   "source": [
    "def get_train_test_split(dataset_full,ratio):\n",
    "  pre_train_set=[]\n",
    "  pre_test_set=[]\n",
    "  # To complete...\n",
    "\n",
    "  return pre_train_set,pre_test_set\n"
   ]
  },
  {
   "cell_type": "markdown",
   "metadata": {
    "colab_type": "text",
    "id": "lPK7iUyZiNMH"
   },
   "source": [
    "Now we have our dataset split into training and test. However, in many cases we would also need a development set, which can be used to tune our model. To get the development set, we can split the test set in half, and therefore obtain a standard train/dev/test split of 80%/10%/10%."
   ]
  },
  {
   "cell_type": "code",
   "execution_count": 0,
   "metadata": {
    "colab": {},
    "colab_type": "code",
    "id": "ux5ZOHQ7n3iF"
   },
   "outputs": [],
   "source": [
    "original_size_test=len(test_set)\n",
    "size_dev=int(round(original_size_test*0.5,0))\n",
    "list_dev_indices=random.sample(range(original_size_test), size_dev)\n",
    "new_dev_set=[]\n",
    "new_test_set=[]\n",
    "for i,example in enumerate(test_set):\n",
    "  if i in list_dev_indices: new_dev_set.append(example)\n",
    "  else: new_test_set.append(example)\n",
    "new_train_set=train_set\n",
    "random.shuffle(new_train_set)\n",
    "random.shuffle(new_dev_set)\n",
    "random.shuffle(new_test_set)"
   ]
  },
  {
   "cell_type": "markdown",
   "metadata": {
    "colab_type": "text",
    "id": "NvnP9l9_pLY_"
   },
   "source": [
    "Our dataset is now split into training, development and test. Let's check some examples from each of the splits."
   ]
  },
  {
   "cell_type": "code",
   "execution_count": 0,
   "metadata": {
    "colab": {},
    "colab_type": "code",
    "id": "ugo887VzpWQ5"
   },
   "outputs": [],
   "source": [
    "print (\"TRAINING SET\")\n",
    "print (\"Size training set: \"+str(len(new_train_set)))\n",
    "for example in new_train_set[:3]:\n",
    "  print (example)\n",
    "print (\"    \\n-------\\n\")\n",
    "print (\"DEV SET\")\n",
    "print (\"Size development set: \"+str(len(new_dev_set)))\n",
    "for example in new_dev_set[:3]:\n",
    "  print (example)\n",
    "print (\"    \\n-------\\n\")\n",
    "print (\"TEST SET\")\n",
    "print (\"Size test set: \"+str(len(new_test_set)))\n",
    "for example in new_test_set[:3]:\n",
    "  print (example)"
   ]
  },
  {
   "cell_type": "markdown",
   "metadata": {
    "colab_type": "text",
    "id": "E7m0tAb_-aTq"
   },
   "source": [
    "\n",
    "\n",
    "\n",
    "## B) EVALUATION MEASURES\n",
    "\n",
    "---\n",
    "\n",
    "\n",
    "In this section we will evaluate our linear SVM binary classifier (similar to the one we trained in the previous session) in the RT-polarity dataset. We will first train the model on the training set, and then evaluate it in the test set. To this end, we will use functions from the previous sessions, slightly modified to be more general and cover this case.\n"
   ]
  },
  {
   "cell_type": "code",
   "execution_count": 0,
   "metadata": {
    "colab": {},
    "colab_type": "code",
    "id": "IRlEgUcvIw_f"
   },
   "outputs": [],
   "source": [
    "lemmatizer = nltk.stem.WordNetLemmatizer()\n",
    "stopwords=set(nltk.corpus.stopwords.words('english'))\n",
    "stopwords.add(\".\")\n",
    "stopwords.add(\",\")\n",
    "stopwords.add(\"--\")\n",
    "stopwords.add(\"``\")\n",
    "\n",
    "# Function taken from Session 1\n",
    "def get_list_tokens(string): # Function to retrieve the list of tokens from a string\n",
    "  sentence_split=nltk.tokenize.sent_tokenize(string)\n",
    "  list_tokens=[]\n",
    "  for sentence in sentence_split:\n",
    "    list_tokens_sentence=nltk.tokenize.word_tokenize(sentence)\n",
    "    for token in list_tokens_sentence:\n",
    "      list_tokens.append(lemmatizer.lemmatize(token).lower())\n",
    "  return list_tokens\n",
    "\n",
    "# Function taken from Session 2\n",
    "def get_vector_text(list_vocab,string):\n",
    "  vector_text=np.zeros(len(list_vocab))\n",
    "  list_tokens_string=get_list_tokens(string)\n",
    "  for i, word in enumerate(list_vocab):\n",
    "    if word in list_tokens_string:\n",
    "      vector_text[i]=list_tokens_string.count(word)\n",
    "  return vector_text\n",
    "\n",
    "\n",
    "# Functions slightly modified from Session 2\n",
    "\n",
    "def get_vocabulary(training_set, num_features): # Function to retrieve vocabulary\n",
    "  dict_word_frequency={}\n",
    "  for instance in training_set:\n",
    "    sentence_tokens=get_list_tokens(instance[0])\n",
    "    for word in sentence_tokens:\n",
    "      if word in stopwords: continue\n",
    "      if word not in dict_word_frequency: dict_word_frequency[word]=1\n",
    "      else: dict_word_frequency[word]+=1\n",
    "  sorted_list = sorted(dict_word_frequency.items(), key=operator.itemgetter(1), reverse=True)[:num_features]\n",
    "  vocabulary=[]\n",
    "  for word,frequency in sorted_list:\n",
    "    vocabulary.append(word)\n",
    "  return vocabulary\n",
    "\n",
    "def train_svm_classifier(training_set, vocabulary): # Function for training our svm classifier\n",
    "  X_train=[]\n",
    "  Y_train=[]\n",
    "  for instance in training_set:\n",
    "    vector_instance=get_vector_text(vocabulary,instance[0])\n",
    "    X_train.append(vector_instance)\n",
    "    Y_train.append(instance[1])\n",
    "  # Finally, we train the SVM classifier \n",
    "  svm_clf=sklearn.svm.SVC(kernel=\"linear\",gamma='auto')\n",
    "  svm_clf.fit(np.asarray(X_train),np.asarray(Y_train))\n",
    "  return svm_clf"
   ]
  },
  {
   "cell_type": "code",
   "execution_count": 0,
   "metadata": {
    "colab": {},
    "colab_type": "code",
    "id": "D8Rl3pwSnLtW"
   },
   "outputs": [],
   "source": [
    "vocabulary=get_vocabulary(new_train_set, 1000)  # We use the get_vocabulary function to retrieve the vocabulary"
   ]
  },
  {
   "cell_type": "code",
   "execution_count": 0,
   "metadata": {
    "colab": {},
    "colab_type": "code",
    "id": "34V7nF4Dr_8w"
   },
   "outputs": [],
   "source": [
    "svm_clf=train_svm_classifier(new_train_set, vocabulary) # We finally use the function to train our SVM classifier. This can take a while..."
   ]
  },
  {
   "cell_type": "markdown",
   "metadata": {
    "colab_type": "text",
    "id": "WXMERnnPvtZi"
   },
   "source": [
    "We can now test our model with an example."
   ]
  },
  {
   "cell_type": "code",
   "execution_count": 0,
   "metadata": {
    "colab": {},
    "colab_type": "code",
    "id": "-FHVHFjHsJgA"
   },
   "outputs": [],
   "source": [
    "print (svm_clf.predict([get_vector_text(vocabulary,\"Fascinating!\")]))"
   ]
  },
  {
   "cell_type": "markdown",
   "metadata": {
    "colab_type": "text",
    "id": "vln_3gb4zV_y"
   },
   "source": [
    "Once we have trained our SVM classifier, we can test our model in the training set. To that end, we need to convert the training set in two lists (`X_test` and `Y_test`), similarly as we did with the training set."
   ]
  },
  {
   "cell_type": "code",
   "execution_count": 0,
   "metadata": {
    "colab": {},
    "colab_type": "code",
    "id": "QwJSvwL4v8eM"
   },
   "outputs": [],
   "source": [
    "X_test=[]\n",
    "Y_test=[]\n",
    "for instance in new_test_set:\n",
    "  vector_instance=get_vector_text(vocabulary,instance[0])\n",
    "  X_test.append(vector_instance)\n",
    "  Y_test.append(instance[1])\n",
    "X_test=np.asarray(X_test)\n",
    "Y_test_gold=np.asarray(Y_test)"
   ]
  },
  {
   "cell_type": "markdown",
   "metadata": {
    "colab_type": "text",
    "id": "5OPXPxYBwhv0"
   },
   "source": [
    "We referred to the labels in the test set as `Y_test_gold` to distinguish them from our predictions (*gold standard* makes reference to the ground truth, which are the labels that are known to be correct). Now we can test our model in the test set using `predict` (to obtain the predictions of our model) and `classification_report` (to get the results) from sklearn."
   ]
  },
  {
   "cell_type": "code",
   "execution_count": 0,
   "metadata": {
    "colab": {},
    "colab_type": "code",
    "id": "Nko4wlsWw0Ov"
   },
   "outputs": [],
   "source": [
    "from sklearn.metrics import classification_report"
   ]
  },
  {
   "cell_type": "code",
   "execution_count": 0,
   "metadata": {
    "colab": {},
    "colab_type": "code",
    "id": "c9owZU57x8q4"
   },
   "outputs": [],
   "source": [
    "Y_text_predictions=svm_clf.predict(X_test)"
   ]
  },
  {
   "cell_type": "code",
   "execution_count": 0,
   "metadata": {
    "colab": {},
    "colab_type": "code",
    "id": "JY7G9Rhaw2fh"
   },
   "outputs": [],
   "source": [
    "print(classification_report(Y_test_gold, Y_text_predictions))"
   ]
  },
  {
   "cell_type": "markdown",
   "metadata": {
    "colab_type": "text",
    "id": "tZ4WHJugys5S"
   },
   "source": [
    "We can also get the individual accuracy and macro-average precision, recall and F-score individually."
   ]
  },
  {
   "cell_type": "code",
   "execution_count": 0,
   "metadata": {
    "colab": {},
    "colab_type": "code",
    "id": "NU-Ls__RzAsO"
   },
   "outputs": [],
   "source": [
    "from sklearn.metrics import precision_score,recall_score,f1_score,accuracy_score"
   ]
  },
  {
   "cell_type": "code",
   "execution_count": 0,
   "metadata": {
    "colab": {},
    "colab_type": "code",
    "id": "z_5_vsFBzJQw"
   },
   "outputs": [],
   "source": [
    "precision=precision_score(Y_test_gold, Y_text_predictions, average='macro')\n",
    "recall=recall_score(Y_test_gold, Y_text_predictions, average='macro')\n",
    "f1=f1_score(Y_test_gold, Y_text_predictions, average='macro')\n",
    "accuracy=accuracy_score(Y_test_gold, Y_text_predictions)\n",
    "\n",
    "print (\"Precision: \"+str(round(precision,3)))\n",
    "print (\"Recall: \"+str(round(recall,3)))\n",
    "print (\"F1-Score: \"+str(round(f1,3)))\n",
    "print (\"Accuracy: \"+str(round(accuracy,3)))"
   ]
  },
  {
   "cell_type": "markdown",
   "metadata": {
    "colab_type": "text",
    "id": "N60XYawkVYx0"
   },
   "source": [
    "To understand better the source of the error made by the model, we can get a confusion matrix (see [here](https://scikit-learn.org/stable/modules/generated/sklearn.metrics.confusion_matrix.html) for more details on confusion matrices in sklearn)."
   ]
  },
  {
   "cell_type": "code",
   "execution_count": 0,
   "metadata": {
    "colab": {},
    "colab_type": "code",
    "id": "9ANdqEL5VjX8"
   },
   "outputs": [],
   "source": [
    "from sklearn.metrics import confusion_matrix"
   ]
  },
  {
   "cell_type": "code",
   "execution_count": 0,
   "metadata": {
    "colab": {},
    "colab_type": "code",
    "id": "c_2-6vz6Vkq9"
   },
   "outputs": [],
   "source": [
    "print (confusion_matrix(Y_test_gold, Y_text_predictions))"
   ]
  },
  {
   "cell_type": "markdown",
   "metadata": {
    "colab_type": "text",
    "id": "eyUr1Beq0v3a"
   },
   "source": [
    "Depending on your split, your results may vary a bit. As you may have realized, we have not made use of our **development set**! Let's try to tune our model in the development set, as that can help improve our model overall! In the development set we can tune anything we want, from the model to use, to the parameters or features. In our case, let's try to tune the number of features in the test set. We can try with less than 1000 features, which was our vocabulary. For example, let's try with `num_features=250`, `num_features=500`, `num_features=750` and `num_features=1000`. We can then tune our model with respect to these features and optimize it for accuracy."
   ]
  },
  {
   "cell_type": "code",
   "execution_count": 0,
   "metadata": {
    "colab": {},
    "colab_type": "code",
    "id": "itSiK2uN16l-"
   },
   "outputs": [],
   "source": [
    "# We first get the gold standard labels from the development set\n",
    "\n",
    "Y_dev=[]\n",
    "for instance in new_dev_set:\n",
    "  Y_dev.append(instance[1])\n",
    "Y_dev_gold=np.asarray(Y_dev)\n",
    "\n",
    "# Now we can train our three models with the different number of features, and test each of them in the dev set\n",
    "\n",
    "list_num_features=[250,500,750,1000]\n",
    "best_accuracy_dev=0.0\n",
    "for num_features in list_num_features:\n",
    "  # First, we get the vocabulary from the training set and train our svm classifier\n",
    "  vocabulary=get_vocabulary(new_train_set, num_features)  \n",
    "  svm_clf=train_svm_classifier(new_train_set, vocabulary)\n",
    "  # Then, we transform our dev set into vectors and make the prediction on this set\n",
    "  X_dev=[]\n",
    "  for instance in new_dev_set:\n",
    "    vector_instance=get_vector_text(vocabulary,instance[0])\n",
    "    X_dev.append(vector_instance)\n",
    "  X_dev=np.asarray(X_dev)\n",
    "  Y_dev_predictions=svm_clf.predict(X_dev)\n",
    "  # Finally, we get the accuracy results of the classifier\n",
    "  accuracy_dev=accuracy_score(Y_dev_gold, Y_dev_predictions)\n",
    "  print (\"Accuracy with \"+str(num_features)+\": \"+str(round(accuracy_dev,3)))\n",
    "  if accuracy_dev>=best_accuracy_dev:\n",
    "    best_accuracy_dev=accuracy_dev\n",
    "    best_num_features=num_features\n",
    "    best_vocabulary=vocabulary\n",
    "    best_svm_clf=svm_clf\n",
    "print (\"\\n Best accuracy overall in the dev set is \"+str(round(best_accuracy_dev,3))+\" with \"+str(best_num_features)+\" features.\")"
   ]
  },
  {
   "cell_type": "markdown",
   "metadata": {
    "colab_type": "text",
    "id": "Vd2B3ABz860y"
   },
   "source": [
    "Let's now check the performance (accuracy) of the best model in the test set.\n",
    "\n",
    "**Note:** Not always the best model in the development set leads to the best results on the test set."
   ]
  },
  {
   "cell_type": "code",
   "execution_count": 0,
   "metadata": {
    "colab": {},
    "colab_type": "code",
    "id": "Kjz-ZXa48_89"
   },
   "outputs": [],
   "source": [
    "X_test=[]\n",
    "Y_test=[]\n",
    "for instance in new_test_set:\n",
    "  vector_instance=get_vector_text(best_vocabulary,instance[0])\n",
    "  X_test.append(vector_instance)\n",
    "  Y_test.append(instance[1])\n",
    "best_X_test=np.asarray(X_test)\n",
    "Y_test_gold=np.asarray(Y_test)\n",
    "\n",
    "best_Y_text_predictions=best_svm_clf.predict(best_X_test)\n",
    "print(classification_report(Y_test_gold, best_Y_text_predictions))"
   ]
  },
  {
   "cell_type": "markdown",
   "metadata": {
    "colab_type": "text",
    "id": "FFdRoZAr2iTn"
   },
   "source": [
    "**Note:** Please note that we have made use of the test set only once. We haven't evaluated more than one model in the test set. This is important, as any tuning should be done in the test set if we want our method to generalize well and comparable to other models. If we evaluate many times on the test set, we risk overfitting our model to the test set."
   ]
  },
  {
   "cell_type": "markdown",
   "metadata": {
    "colab_type": "text",
    "id": "DXuBJC7b9hW-"
   },
   "source": [
    "**Exercise 2:** Tune the same classifier, this time with `num_features=100`, `num_features=500` and `num_features=1000` and optimize it for macro-average F1-score, instead of accuracy. Test the best-performing classifier in the development set (in terms of F1-score) on the test."
   ]
  },
  {
   "cell_type": "code",
   "execution_count": 0,
   "metadata": {
    "colab": {},
    "colab_type": "code",
    "id": "9Ut2-rf7C-94"
   },
   "outputs": [],
   "source": [
    "list_num_features=[100,500,1000]\n",
    "# To complete"
   ]
  },
  {
   "cell_type": "markdown",
   "metadata": {
    "colab_type": "text",
    "id": "16K6wkXq9wS-"
   },
   "source": [
    "**Exercise (optional):** Think about other elements to tune in the development set. For example, parameters in the SVM (e.g., smaller values of the [C regularization parameter](https://stats.stackexchange.com/questions/31066/what-is-the-influence-of-c-in-svms-with-linear-kernel), more information about the parameters of the SVM [here](https://scikit-learn.org/stable/modules/generated/sklearn.svm.SVC.html)), other vocabulary sizes or features, feature selection methods, etc."
   ]
  },
  {
   "cell_type": "markdown",
   "metadata": {
    "colab_type": "text",
    "id": "CYlpPJlz-NxK"
   },
   "source": [
    "## C) CROSS-VALIDATION\n",
    "\n",
    "In addition to the usual train, development and test splits, there is an alternative that it's called cross-validation. With this technique we use a single set with all our examples, and create several different train/test splits (or train/dev/test). This has the advantage of testing on a wider range of examples (useful especially when your dataset is not very large) but the disadvantage of being computationally more expensive and not easily reproducible.\n",
    "\n",
    "We are going to start with 5-fold validation, i.e., the dataset is split into five parts, which will be used as five different test sets. Let's evaluate our model with 500 features on the full RT-polarity dataset using 5-fold cross-validation.\n",
    " "
   ]
  },
  {
   "cell_type": "code",
   "execution_count": 0,
   "metadata": {
    "colab": {},
    "colab_type": "code",
    "id": "X0-MbK7lJYn8"
   },
   "outputs": [],
   "source": [
    "from sklearn.model_selection import KFold"
   ]
  },
  {
   "cell_type": "code",
   "execution_count": 0,
   "metadata": {
    "colab": {},
    "colab_type": "code",
    "id": "wvBT_YX6GzW2"
   },
   "outputs": [],
   "source": [
    "kf = KFold(n_splits=5)\n",
    "random.shuffle(dataset_full)\n",
    "kf.get_n_splits(dataset_full)\n",
    "for train_index, test_index in kf.split(dataset_full):\n",
    "  train_set_fold=[]\n",
    "  test_set_fold=[]\n",
    "  accuracy_total=0.0\n",
    "  for i,instance in enumerate(dataset_full):\n",
    "    if i in train_index:\n",
    "      train_set_fold.append(instance)\n",
    "    else:\n",
    "      test_set_fold.append(instance)\n",
    "  vocabulary_fold=get_vocabulary(train_set_fold, 500)\n",
    "  svm_clf_fold=train_svm_classifier(train_set_fold, vocabulary_fold)\n",
    "  X_test_fold=[]\n",
    "  Y_test_fold=[]\n",
    "  for instance in test_set_fold:\n",
    "    vector_instance=get_vector_text(vocabulary_fold,instance[0])\n",
    "    X_test_fold.append(vector_instance)\n",
    "    Y_test_fold.append(instance[1])\n",
    "  Y_test_fold_gold=np.asarray(Y_test_fold)\n",
    "  X_test_fold=np.asarray(X_test_fold)\n",
    "  Y_test_predictions_fold=svm_clf_fold.predict(X_test_fold)\n",
    "  accuracy_fold=accuracy_score(Y_test_fold_gold, Y_test_predictions_fold)\n",
    "  accuracy_total+=accuracy_fold\n",
    "  print (\"Fold completed.\")\n",
    "average_accuracy=accuracy_total/5\n",
    "print (\"\\nAverage Accuracy: \"+str(round(accuracy_fold,3)))"
   ]
  },
  {
   "cell_type": "markdown",
   "metadata": {
    "colab_type": "text",
    "id": "7OhkMwSdMsbS"
   },
   "source": [
    "**Note:** Sklearn contains the [cross_val_score](https://scikit-learn.org/stable/modules/generated/sklearn.model_selection.cross_val_score.html) function, which is very convinent to evaluate our model in a cross-validation setting. However, we cannot use this function when the features depend on the dataset itself, as it is our case in the RT-polarity dataset (the vocabulary depends on the training set)."
   ]
  },
  {
   "cell_type": "markdown",
   "metadata": {
    "colab_type": "text",
    "id": "gRP5RfSyN80Q"
   },
   "source": [
    "**Exercise (optional):** Use the `cross_val_score` function from sklearn to evaluate an SVM classifier from the Diabetes dataset (Session 2) using 10-fold cross-validation."
   ]
  },
  {
   "cell_type": "markdown",
   "metadata": {
    "colab_type": "text",
    "id": "IENomO9qGyeT"
   },
   "source": [
    "**Exercise 3:** Use 3-fold cross-validation to evaluate the SVM classifier with 1000 features (instead of 500). Print the accuracy of the classifier in every of the three folds, and the overall accuracy at the end."
   ]
  },
  {
   "cell_type": "code",
   "execution_count": 0,
   "metadata": {
    "colab": {},
    "colab_type": "code",
    "id": "Zp1pR4AWl_fK"
   },
   "outputs": [],
   "source": [
    "# To complete"
   ]
  }
 ],
 "metadata": {
  "colab": {
   "collapsed_sections": [],
   "name": "3_ExperimentalDesign.ipynb",
   "provenance": []
  },
  "kernelspec": {
   "display_name": "Python 3",
   "language": "python",
   "name": "python3"
  },
  "language_info": {
   "codemirror_mode": {
    "name": "ipython",
    "version": 3
   },
   "file_extension": ".py",
   "mimetype": "text/x-python",
   "name": "python",
   "nbconvert_exporter": "python",
   "pygments_lexer": "ipython3",
   "version": "3.7.1"
  }
 },
 "nbformat": 4,
 "nbformat_minor": 1
}
