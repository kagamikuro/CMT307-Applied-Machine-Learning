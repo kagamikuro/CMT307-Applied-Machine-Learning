{
  "nbformat": 4,
  "nbformat_minor": 0,
  "metadata": {
    "colab": {
      "name": "10_WordEmbeddings_Gensim_Solutions.ipynb",
      "provenance": [],
      "collapsed_sections": []
    },
    "kernelspec": {
      "name": "python3",
      "display_name": "Python 3"
    }
  },
  "cells": [
    {
      "cell_type": "markdown",
      "metadata": {
        "id": "_k5VL54cwf8t",
        "colab_type": "text"
      },
      "source": [
        "**Exercise 1:**"
      ]
    },
    {
      "cell_type": "code",
      "metadata": {
        "id": "cVpx8p5awgre",
        "colab_type": "code",
        "colab": {}
      },
      "source": [
        "model_2 = Word2Vec(gensim_imdb_corpus, size=75, window=8, min_count=3) \n",
        "# Size is the number of dimensions of the embeddings we are going to learn\n",
        "# Window is the size considered for context of a target word\n",
        "# Min count is the minimum number of times that a word need to occur to be learnt"
      ],
      "execution_count": 0,
      "outputs": []
    },
    {
      "cell_type": "code",
      "metadata": {
        "id": "epcwAQcDaOTr",
        "colab_type": "code",
        "colab": {}
      },
      "source": [
        "model_2.most_similar('movie')"
      ],
      "execution_count": 0,
      "outputs": []
    },
    {
      "cell_type": "code",
      "metadata": {
        "id": "vwB-WcPAZOm1",
        "colab_type": "code",
        "colab": {}
      },
      "source": [
        "print(model_2.similarity('movie', 'table'))"
      ],
      "execution_count": 0,
      "outputs": []
    }
  ]
}